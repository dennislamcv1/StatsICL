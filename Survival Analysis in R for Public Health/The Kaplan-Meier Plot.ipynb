{
 "cells": [
  {
   "cell_type": "code",
   "execution_count": 1,
   "metadata": {},
   "outputs": [
    {
     "name": "stderr",
     "output_type": "stream",
     "text": [
      "Registered S3 methods overwritten by 'ggplot2':\n",
      "  method         from \n",
      "  [.quosures     rlang\n",
      "  c.quosures     rlang\n",
      "  print.quosures rlang\n"
     ]
    }
   ],
   "source": [
    "library(ggplot2) # newer package that does nice plots\n",
    "library(survival)"
   ]
  },
  {
   "cell_type": "code",
   "execution_count": 2,
   "metadata": {},
   "outputs": [],
   "source": [
    "g = read.csv(\"final.csv\")"
   ]
  },
  {
   "cell_type": "code",
   "execution_count": 3,
   "metadata": {},
   "outputs": [
    {
     "data": {
      "text/html": [
       "<table>\n",
       "<thead><tr><th scope=col>id</th><th scope=col>death</th><th scope=col>los</th><th scope=col>age</th><th scope=col>gender</th><th scope=col>cancer</th><th scope=col>cabg</th><th scope=col>crt</th><th scope=col>defib</th><th scope=col>dementia</th><th scope=col>...</th><th scope=col>pacemaker</th><th scope=col>pneumonia</th><th scope=col>prior_appts_attended</th><th scope=col>prior_dnas</th><th scope=col>pci</th><th scope=col>stroke</th><th scope=col>senile</th><th scope=col>quintile</th><th scope=col>ethnicgroup</th><th scope=col>fu_time</th></tr></thead>\n",
       "<tbody>\n",
       "\t<tr><td>1  </td><td>0  </td><td> 2 </td><td>90 </td><td>2  </td><td>0  </td><td>0  </td><td>0  </td><td>0  </td><td>0  </td><td>...</td><td>0  </td><td>0  </td><td>4  </td><td>0  </td><td>0  </td><td>0  </td><td>0  </td><td>2  </td><td>NA </td><td>416</td></tr>\n",
       "\t<tr><td>2  </td><td>0  </td><td>10 </td><td>74 </td><td>1  </td><td>0  </td><td>0  </td><td>0  </td><td>0  </td><td>0  </td><td>...</td><td>0  </td><td>1  </td><td>9  </td><td>1  </td><td>0  </td><td>0  </td><td>0  </td><td>4  </td><td> 1 </td><td>648</td></tr>\n",
       "\t<tr><td>3  </td><td>0  </td><td> 3 </td><td>83 </td><td>2  </td><td>0  </td><td>0  </td><td>0  </td><td>0  </td><td>0  </td><td>...</td><td>0  </td><td>0  </td><td>1  </td><td>0  </td><td>0  </td><td>0  </td><td>0  </td><td>3  </td><td> 1 </td><td>466</td></tr>\n",
       "\t<tr><td>4  </td><td>0  </td><td> 1 </td><td>79 </td><td>1  </td><td>0  </td><td>0  </td><td>0  </td><td>0  </td><td>0  </td><td>...</td><td>1  </td><td>0  </td><td>9  </td><td>2  </td><td>1  </td><td>1  </td><td>0  </td><td>5  </td><td> 1 </td><td>441</td></tr>\n",
       "\t<tr><td>5  </td><td>0  </td><td>17 </td><td>94 </td><td>2  </td><td>0  </td><td>0  </td><td>0  </td><td>0  </td><td>0  </td><td>...</td><td>0  </td><td>0  </td><td>3  </td><td>0  </td><td>0  </td><td>0  </td><td>0  </td><td>2  </td><td> 1 </td><td>371</td></tr>\n",
       "\t<tr><td>6  </td><td>0  </td><td>47 </td><td>89 </td><td>1  </td><td>0  </td><td>0  </td><td>0  </td><td>0  </td><td>0  </td><td>...</td><td>0  </td><td>1  </td><td>3  </td><td>0  </td><td>0  </td><td>0  </td><td>0  </td><td>3  </td><td>NA </td><td> 47</td></tr>\n",
       "</tbody>\n",
       "</table>\n"
      ],
      "text/latex": [
       "\\begin{tabular}{r|lllllllllllllllllllllllllllllll}\n",
       " id & death & los & age & gender & cancer & cabg & crt & defib & dementia & ... & pacemaker & pneumonia & prior\\_appts\\_attended & prior\\_dnas & pci & stroke & senile & quintile & ethnicgroup & fu\\_time\\\\\n",
       "\\hline\n",
       "\t 1   & 0   &  2  & 90  & 2   & 0   & 0   & 0   & 0   & 0   & ... & 0   & 0   & 4   & 0   & 0   & 0   & 0   & 2   & NA  & 416\\\\\n",
       "\t 2   & 0   & 10  & 74  & 1   & 0   & 0   & 0   & 0   & 0   & ... & 0   & 1   & 9   & 1   & 0   & 0   & 0   & 4   &  1  & 648\\\\\n",
       "\t 3   & 0   &  3  & 83  & 2   & 0   & 0   & 0   & 0   & 0   & ... & 0   & 0   & 1   & 0   & 0   & 0   & 0   & 3   &  1  & 466\\\\\n",
       "\t 4   & 0   &  1  & 79  & 1   & 0   & 0   & 0   & 0   & 0   & ... & 1   & 0   & 9   & 2   & 1   & 1   & 0   & 5   &  1  & 441\\\\\n",
       "\t 5   & 0   & 17  & 94  & 2   & 0   & 0   & 0   & 0   & 0   & ... & 0   & 0   & 3   & 0   & 0   & 0   & 0   & 2   &  1  & 371\\\\\n",
       "\t 6   & 0   & 47  & 89  & 1   & 0   & 0   & 0   & 0   & 0   & ... & 0   & 1   & 3   & 0   & 0   & 0   & 0   & 3   & NA  &  47\\\\\n",
       "\\end{tabular}\n"
      ],
      "text/markdown": [
       "\n",
       "| id | death | los | age | gender | cancer | cabg | crt | defib | dementia | ... | pacemaker | pneumonia | prior_appts_attended | prior_dnas | pci | stroke | senile | quintile | ethnicgroup | fu_time |\n",
       "|---|---|---|---|---|---|---|---|---|---|---|---|---|---|---|---|---|---|---|---|---|\n",
       "| 1   | 0   |  2  | 90  | 2   | 0   | 0   | 0   | 0   | 0   | ... | 0   | 0   | 4   | 0   | 0   | 0   | 0   | 2   | NA  | 416 |\n",
       "| 2   | 0   | 10  | 74  | 1   | 0   | 0   | 0   | 0   | 0   | ... | 0   | 1   | 9   | 1   | 0   | 0   | 0   | 4   |  1  | 648 |\n",
       "| 3   | 0   |  3  | 83  | 2   | 0   | 0   | 0   | 0   | 0   | ... | 0   | 0   | 1   | 0   | 0   | 0   | 0   | 3   |  1  | 466 |\n",
       "| 4   | 0   |  1  | 79  | 1   | 0   | 0   | 0   | 0   | 0   | ... | 1   | 0   | 9   | 2   | 1   | 1   | 0   | 5   |  1  | 441 |\n",
       "| 5   | 0   | 17  | 94  | 2   | 0   | 0   | 0   | 0   | 0   | ... | 0   | 0   | 3   | 0   | 0   | 0   | 0   | 2   |  1  | 371 |\n",
       "| 6   | 0   | 47  | 89  | 1   | 0   | 0   | 0   | 0   | 0   | ... | 0   | 1   | 3   | 0   | 0   | 0   | 0   | 3   | NA  |  47 |\n",
       "\n"
      ],
      "text/plain": [
       "  id death los age gender cancer cabg crt defib dementia ... pacemaker\n",
       "1 1  0      2  90  2      0      0    0   0     0        ... 0        \n",
       "2 2  0     10  74  1      0      0    0   0     0        ... 0        \n",
       "3 3  0      3  83  2      0      0    0   0     0        ... 0        \n",
       "4 4  0      1  79  1      0      0    0   0     0        ... 1        \n",
       "5 5  0     17  94  2      0      0    0   0     0        ... 0        \n",
       "6 6  0     47  89  1      0      0    0   0     0        ... 0        \n",
       "  pneumonia prior_appts_attended prior_dnas pci stroke senile quintile\n",
       "1 0         4                    0          0   0      0      2       \n",
       "2 1         9                    1          0   0      0      4       \n",
       "3 0         1                    0          0   0      0      3       \n",
       "4 0         9                    2          1   1      0      5       \n",
       "5 0         3                    0          0   0      0      2       \n",
       "6 1         3                    0          0   0      0      3       \n",
       "  ethnicgroup fu_time\n",
       "1 NA          416    \n",
       "2  1          648    \n",
       "3  1          466    \n",
       "4  1          441    \n",
       "5  1          371    \n",
       "6 NA           47    "
      ]
     },
     "metadata": {},
     "output_type": "display_data"
    }
   ],
   "source": [
    "head(g)"
   ]
  },
  {
   "cell_type": "code",
   "execution_count": 4,
   "metadata": {},
   "outputs": [],
   "source": [
    "gender <- as.factor(g[,\"gender\"]) # R calls categorical variables factors\n",
    "fu_time <- g[,\"fu_time\"] # continuous variable (numeric) \n",
    "death <- g[,\"death\"] # binary variable (numeric) "
   ]
  },
  {
   "cell_type": "code",
   "execution_count": 5,
   "metadata": {},
   "outputs": [
    {
     "data": {
      "image/png": "[encoded data removed]",
      "text/plain": [
       "plot without title"
      ]
     },
     "metadata": {},
     "output_type": "display_data"
    }
   ],
   "source": [
    "km_fit <- survfit(Surv(fu_time, death) ~ 1)\n",
    "\n",
    "plot(km_fit)"
   ]
  },
  {
   "cell_type": "code",
   "execution_count": 6,
   "metadata": {},
   "outputs": [
    {
     "data": {
      "text/plain": [
       "Call: survfit(formula = Surv(fu_time, death) ~ 1)\n",
       "\n",
       " time n.risk n.event survival std.err lower 95% CI upper 95% CI\n",
       "    1    992      12    0.988 0.00346        0.981        0.995\n",
       "    2    973       7    0.981 0.00435        0.972        0.989\n",
       "    3    963       5    0.976 0.00489        0.966        0.985\n",
       "    4    954       6    0.970 0.00546        0.959        0.980\n",
       "    5    945       5    0.964 0.00590        0.953        0.976\n",
       "    6    938       1    0.963 0.00598        0.952        0.975\n",
       "    7    933       1    0.962 0.00606        0.951        0.974\n",
       "   30    865      39    0.921 0.00865        0.905        0.939\n",
       "   60    809      28    0.891 0.01010        0.871        0.911\n",
       "   90    770      24    0.864 0.01117        0.843        0.887\n",
       "  180    698      43    0.815 0.01282        0.790        0.841\n",
       "  270    653      24    0.787 0.01363        0.760        0.814\n",
       "  360    619      21    0.761 0.01428        0.733        0.789\n",
       "  450    525      44    0.705 0.01554        0.675        0.736\n",
       "  540    429      47    0.639 0.01681        0.607        0.673\n",
       "  630    362      32    0.589 0.01765        0.556        0.625\n",
       "  720    266      43    0.514 0.01876        0.479        0.552\n",
       "  810    190      31    0.448 0.01979        0.411        0.488\n",
       "  900    126      26    0.378 0.02098        0.339        0.421"
      ]
     },
     "metadata": {},
     "output_type": "display_data"
    }
   ],
   "source": [
    "summary(km_fit, times = c(1:7,30,60,90*(1:10)))"
   ]
  },
  {
   "cell_type": "code",
   "execution_count": 7,
   "metadata": {},
   "outputs": [
    {
     "data": {
      "image/png": "[encoded data removed]",
      "text/plain": [
       "plot without title"
      ]
     },
     "metadata": {},
     "output_type": "display_data"
    }
   ],
   "source": [
    "km_gender_fit <- survfit(Surv(fu_time, death) ~ gender) \n",
    "\n",
    "plot(km_gender_fit)"
   ]
  },
  {
   "cell_type": "code",
   "execution_count": 8,
   "metadata": {},
   "outputs": [
    {
     "data": {
      "text/plain": [
       "Call:\n",
       "survdiff(formula = Surv(fu_time, death) ~ gender, rho = 0)\n",
       "\n",
       "           N Observed Expected (O-E)^2/E (O-E)^2/V\n",
       "gender=1 548      268      271    0.0365     0.082\n",
       "gender=2 452      224      221    0.0448     0.082\n",
       "\n",
       " Chisq= 0.1  on 1 degrees of freedom, p= 0.8 "
      ]
     },
     "metadata": {},
     "output_type": "display_data"
    }
   ],
   "source": [
    "survdiff(Surv(fu_time, death) ~ gender, rho=0) "
   ]
  },
  {
   "cell_type": "code",
   "execution_count": null,
   "metadata": {},
   "outputs": [],
   "source": []
  }
 ],
 "metadata": {
  "kernelspec": {
   "display_name": "R",
   "language": "R",
   "name": "ir"
  },
  "language_info": {
   "codemirror_mode": "r",
   "file_extension": ".r",
   "mimetype": "text/x-r-source",
   "name": "R",
   "pygments_lexer": "r",
   "version": "3.6.1"
  }
 },
 "nbformat": 4,
 "nbformat_minor": 4
}
