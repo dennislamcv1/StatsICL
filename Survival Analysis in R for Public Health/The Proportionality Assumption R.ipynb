{
 "cells": [
  {
   "cell_type": "code",
   "execution_count": 1,
   "metadata": {},
   "outputs": [],
   "source": [
    "library(survival)"
   ]
  },
  {
   "cell_type": "code",
   "execution_count": 2,
   "metadata": {},
   "outputs": [],
   "source": [
    "df = read.csv(\"final.csv\")"
   ]
  },
  {
   "cell_type": "code",
   "execution_count": 3,
   "metadata": {},
   "outputs": [
    {
     "data": {
      "text/html": [
       "<table>\n",
       "<thead><tr><th scope=col>id</th><th scope=col>death</th><th scope=col>los</th><th scope=col>age</th><th scope=col>gender</th><th scope=col>cancer</th><th scope=col>cabg</th><th scope=col>crt</th><th scope=col>defib</th><th scope=col>dementia</th><th scope=col>...</th><th scope=col>pacemaker</th><th scope=col>pneumonia</th><th scope=col>prior_appts_attended</th><th scope=col>prior_dnas</th><th scope=col>pci</th><th scope=col>stroke</th><th scope=col>senile</th><th scope=col>quintile</th><th scope=col>ethnicgroup</th><th scope=col>fu_time</th></tr></thead>\n",
       "<tbody>\n",
       "\t<tr><td>1  </td><td>0  </td><td> 2 </td><td>90 </td><td>2  </td><td>0  </td><td>0  </td><td>0  </td><td>0  </td><td>0  </td><td>...</td><td>0  </td><td>0  </td><td>4  </td><td>0  </td><td>0  </td><td>0  </td><td>0  </td><td>2  </td><td>NA </td><td>416</td></tr>\n",
       "\t<tr><td>2  </td><td>0  </td><td>10 </td><td>74 </td><td>1  </td><td>0  </td><td>0  </td><td>0  </td><td>0  </td><td>0  </td><td>...</td><td>0  </td><td>1  </td><td>9  </td><td>1  </td><td>0  </td><td>0  </td><td>0  </td><td>4  </td><td> 1 </td><td>648</td></tr>\n",
       "\t<tr><td>3  </td><td>0  </td><td> 3 </td><td>83 </td><td>2  </td><td>0  </td><td>0  </td><td>0  </td><td>0  </td><td>0  </td><td>...</td><td>0  </td><td>0  </td><td>1  </td><td>0  </td><td>0  </td><td>0  </td><td>0  </td><td>3  </td><td> 1 </td><td>466</td></tr>\n",
       "\t<tr><td>4  </td><td>0  </td><td> 1 </td><td>79 </td><td>1  </td><td>0  </td><td>0  </td><td>0  </td><td>0  </td><td>0  </td><td>...</td><td>1  </td><td>0  </td><td>9  </td><td>2  </td><td>1  </td><td>1  </td><td>0  </td><td>5  </td><td> 1 </td><td>441</td></tr>\n",
       "\t<tr><td>5  </td><td>0  </td><td>17 </td><td>94 </td><td>2  </td><td>0  </td><td>0  </td><td>0  </td><td>0  </td><td>0  </td><td>...</td><td>0  </td><td>0  </td><td>3  </td><td>0  </td><td>0  </td><td>0  </td><td>0  </td><td>2  </td><td> 1 </td><td>371</td></tr>\n",
       "</tbody>\n",
       "</table>\n"
      ],
      "text/latex": [
       "\\begin{tabular}{r|lllllllllllllllllllllllllllllll}\n",
       " id & death & los & age & gender & cancer & cabg & crt & defib & dementia & ... & pacemaker & pneumonia & prior\\_appts\\_attended & prior\\_dnas & pci & stroke & senile & quintile & ethnicgroup & fu\\_time\\\\\n",
       "\\hline\n",
       "\t 1   & 0   &  2  & 90  & 2   & 0   & 0   & 0   & 0   & 0   & ... & 0   & 0   & 4   & 0   & 0   & 0   & 0   & 2   & NA  & 416\\\\\n",
       "\t 2   & 0   & 10  & 74  & 1   & 0   & 0   & 0   & 0   & 0   & ... & 0   & 1   & 9   & 1   & 0   & 0   & 0   & 4   &  1  & 648\\\\\n",
       "\t 3   & 0   &  3  & 83  & 2   & 0   & 0   & 0   & 0   & 0   & ... & 0   & 0   & 1   & 0   & 0   & 0   & 0   & 3   &  1  & 466\\\\\n",
       "\t 4   & 0   &  1  & 79  & 1   & 0   & 0   & 0   & 0   & 0   & ... & 1   & 0   & 9   & 2   & 1   & 1   & 0   & 5   &  1  & 441\\\\\n",
       "\t 5   & 0   & 17  & 94  & 2   & 0   & 0   & 0   & 0   & 0   & ... & 0   & 0   & 3   & 0   & 0   & 0   & 0   & 2   &  1  & 371\\\\\n",
       "\\end{tabular}\n"
      ],
      "text/markdown": [
       "\n",
       "| id | death | los | age | gender | cancer | cabg | crt | defib | dementia | ... | pacemaker | pneumonia | prior_appts_attended | prior_dnas | pci | stroke | senile | quintile | ethnicgroup | fu_time |\n",
       "|---|---|---|---|---|---|---|---|---|---|---|---|---|---|---|---|---|---|---|---|---|\n",
       "| 1   | 0   |  2  | 90  | 2   | 0   | 0   | 0   | 0   | 0   | ... | 0   | 0   | 4   | 0   | 0   | 0   | 0   | 2   | NA  | 416 |\n",
       "| 2   | 0   | 10  | 74  | 1   | 0   | 0   | 0   | 0   | 0   | ... | 0   | 1   | 9   | 1   | 0   | 0   | 0   | 4   |  1  | 648 |\n",
       "| 3   | 0   |  3  | 83  | 2   | 0   | 0   | 0   | 0   | 0   | ... | 0   | 0   | 1   | 0   | 0   | 0   | 0   | 3   |  1  | 466 |\n",
       "| 4   | 0   |  1  | 79  | 1   | 0   | 0   | 0   | 0   | 0   | ... | 1   | 0   | 9   | 2   | 1   | 1   | 0   | 5   |  1  | 441 |\n",
       "| 5   | 0   | 17  | 94  | 2   | 0   | 0   | 0   | 0   | 0   | ... | 0   | 0   | 3   | 0   | 0   | 0   | 0   | 2   |  1  | 371 |\n",
       "\n"
      ],
      "text/plain": [
       "  id death los age gender cancer cabg crt defib dementia ... pacemaker\n",
       "1 1  0      2  90  2      0      0    0   0     0        ... 0        \n",
       "2 2  0     10  74  1      0      0    0   0     0        ... 0        \n",
       "3 3  0      3  83  2      0      0    0   0     0        ... 0        \n",
       "4 4  0      1  79  1      0      0    0   0     0        ... 1        \n",
       "5 5  0     17  94  2      0      0    0   0     0        ... 0        \n",
       "  pneumonia prior_appts_attended prior_dnas pci stroke senile quintile\n",
       "1 0         4                    0          0   0      0      2       \n",
       "2 1         9                    1          0   0      0      4       \n",
       "3 0         1                    0          0   0      0      3       \n",
       "4 0         9                    2          1   1      0      5       \n",
       "5 0         3                    0          0   0      0      2       \n",
       "  ethnicgroup fu_time\n",
       "1 NA          416    \n",
       "2  1          648    \n",
       "3  1          466    \n",
       "4  1          441    \n",
       "5  1          371    "
      ]
     },
     "metadata": {},
     "output_type": "display_data"
    }
   ],
   "source": [
    "head(df,5)"
   ]
  },
  {
   "cell_type": "code",
   "execution_count": 17,
   "metadata": {},
   "outputs": [
    {
     "name": "stdout",
     "output_type": "stream",
     "text": [
      "'data.frame':\t1000 obs. of  31 variables:\n",
      " $ id                  : int  1 2 3 4 5 6 7 8 9 10 ...\n",
      " $ death               : int  0 0 0 0 0 0 0 0 0 0 ...\n",
      " $ los                 : int  2 10 3 1 17 47 3 12 2 2 ...\n",
      " $ age                 : int  90 74 83 79 94 89 63 86 72 82 ...\n",
      " $ gender              : int  2 1 2 1 2 1 1 2 2 2 ...\n",
      " $ cancer              : int  0 0 0 0 0 0 0 0 0 0 ...\n",
      " $ cabg                : int  0 0 0 0 0 0 0 0 0 0 ...\n",
      " $ crt                 : int  0 0 0 0 0 0 0 0 0 0 ...\n",
      " $ defib               : int  0 0 0 0 0 0 0 0 0 0 ...\n",
      " $ dementia            : int  0 0 0 0 0 0 0 0 0 0 ...\n",
      " $ diabetes            : int  0 0 0 1 1 0 0 0 0 0 ...\n",
      " $ hypertension        : int  0 1 1 1 1 0 1 1 0 0 ...\n",
      " $ ihd                 : int  0 1 0 1 0 0 0 0 0 0 ...\n",
      " $ mental_health       : int  0 0 0 0 0 0 0 0 0 0 ...\n",
      " $ arrhythmias         : int  1 0 1 0 0 0 1 1 0 0 ...\n",
      " $ copd                : int  0 0 0 1 0 0 0 0 1 0 ...\n",
      " $ obesity             : int  0 0 0 0 0 0 0 0 0 0 ...\n",
      " $ pvd                 : int  0 0 0 0 0 1 0 0 0 0 ...\n",
      " $ renal_disease       : int  0 1 0 0 0 0 0 0 0 0 ...\n",
      " $ valvular_disease    : int  1 1 0 0 0 1 0 0 0 0 ...\n",
      " $ metastatic_cancer   : int  0 0 0 0 0 0 0 0 0 0 ...\n",
      " $ pacemaker           : int  0 0 0 1 0 0 0 0 0 0 ...\n",
      " $ pneumonia           : int  0 1 0 0 0 1 0 0 0 0 ...\n",
      " $ prior_appts_attended: int  4 9 1 9 3 3 0 13 2 4 ...\n",
      " $ prior_dnas          : int  0 1 0 2 0 0 0 1 0 1 ...\n",
      " $ pci                 : int  0 0 0 1 0 0 0 0 0 0 ...\n",
      " $ stroke              : int  0 0 0 1 0 0 0 0 1 0 ...\n",
      " $ senile              : int  0 0 0 0 0 0 0 0 0 0 ...\n",
      " $ quintile            : int  2 4 3 5 2 3 2 3 3 4 ...\n",
      " $ ethnicgroup         : int  NA 1 1 1 1 NA 1 1 1 1 ...\n",
      " $ fu_time             : int  416 648 466 441 371 47 656 12 530 551 ...\n"
     ]
    }
   ],
   "source": [
    "str(df)"
   ]
  },
  {
   "cell_type": "code",
   "execution_count": 4,
   "metadata": {},
   "outputs": [],
   "source": [
    "fit <- coxph(Surv(fu_time, death) ~ gender, data=df) # fit the desired model"
   ]
  },
  {
   "cell_type": "code",
   "execution_count": 5,
   "metadata": {},
   "outputs": [],
   "source": [
    "temp <- cox.zph(fit, transform=\"km\", global=TRUE)"
   ]
  },
  {
   "cell_type": "markdown",
   "metadata": {},
   "source": [
    "Test the proportionality assumption for gender and enter the resulting p value from the output, rounding to two decimal places if necessary. Different versions of the package give slightly different answers, so we will accept both."
   ]
  },
  {
   "cell_type": "code",
   "execution_count": 6,
   "metadata": {},
   "outputs": [
    {
     "name": "stdout",
     "output_type": "stream",
     "text": [
      "          rho chisq     p\n",
      "gender 0.0493  1.19 0.275\n"
     ]
    }
   ],
   "source": [
    "print(temp) # display the results"
   ]
  },
  {
   "cell_type": "code",
   "execution_count": 7,
   "metadata": {},
   "outputs": [
    {
     "data": {
      "image/png": "[encoded data removed]",
      "text/plain": [
       "plot without title"
      ]
     },
     "metadata": {},
     "output_type": "display_data"
    }
   ],
   "source": [
    "plot(temp) # plot the curves"
   ]
  },
  {
   "cell_type": "code",
   "execution_count": 10,
   "metadata": {},
   "outputs": [
    {
     "data": {
      "image/png": "[encoded data removed]",
      "text/plain": [
       "plot without title"
      ]
     },
     "metadata": {},
     "output_type": "display_data"
    }
   ],
   "source": [
    "km_fit <- survfit(Surv(fu_time, death) ~ gender, data = df) \n",
    "\n",
    "plot(km_fit, xlab = \"time\", ylab = \"Survival probability\") # label the axes "
   ]
  },
  {
   "cell_type": "code",
   "execution_count": 13,
   "metadata": {},
   "outputs": [],
   "source": [
    "# res.cox <- coxph(Surv(fu_time, death) ~ age, data=df) \n",
    "# ggcoxdiagnostics(res.cox, type = \"dfbeta\", \n",
    "#                  linear.predictions = FALSE, ggtheme = theme_bw()) "
   ]
  },
  {
   "cell_type": "code",
   "execution_count": 14,
   "metadata": {},
   "outputs": [],
   "source": [
    "# res.cox <- coxph(Surv(fu_time, death) ~ age) \n",
    "# ggcoxdiagnostics(res.cox, type = \"deviance\", \n",
    "#                  linear.predictions = FALSE, ggtheme = theme_bw()) "
   ]
  },
  {
   "cell_type": "code",
   "execution_count": 15,
   "metadata": {},
   "outputs": [],
   "source": [
    "#ggcoxfunctional(Surv(fu_time, death) ~ age + log(age) + sqrt(age)) "
   ]
  },
  {
   "cell_type": "markdown",
   "metadata": {},
   "source": [
    "Now it’s your turn. Try the same code but this time check if the assumption holds for COPD (chronic obstructive pulmonary disease), which is a common and important comorbidity with heart failure. Type the p value that you got into the box, rounding it to two decimal places. "
   ]
  },
  {
   "cell_type": "code",
   "execution_count": 18,
   "metadata": {},
   "outputs": [],
   "source": [
    "fit <- coxph(Surv(fu_time, death) ~ copd, data=df)"
   ]
  },
  {
   "cell_type": "code",
   "execution_count": 19,
   "metadata": {},
   "outputs": [
    {
     "data": {
      "text/plain": [
       "Call:\n",
       "coxph(formula = Surv(fu_time, death) ~ copd, data = df)\n",
       "\n",
       "        coef exp(coef) se(coef)     z     p\n",
       "copd 0.08951   1.09364  0.10316 0.868 0.386\n",
       "\n",
       "Likelihood ratio test=0.74  on 1 df, p=0.389\n",
       "n= 1000, number of events= 492 "
      ]
     },
     "metadata": {},
     "output_type": "display_data"
    }
   ],
   "source": [
    "fit"
   ]
  },
  {
   "cell_type": "code",
   "execution_count": 20,
   "metadata": {},
   "outputs": [],
   "source": [
    "temp2 <- cox.zph(fit, transform=\"km\", global=TRUE)"
   ]
  },
  {
   "cell_type": "code",
   "execution_count": 21,
   "metadata": {},
   "outputs": [
    {
     "name": "stdout",
     "output_type": "stream",
     "text": [
      "       rho chisq     p\n",
      "copd 0.049  1.18 0.278\n"
     ]
    }
   ],
   "source": [
    "print(temp2)"
   ]
  },
  {
   "cell_type": "code",
   "execution_count": null,
   "metadata": {},
   "outputs": [],
   "source": []
  }
 ],
 "metadata": {
  "kernelspec": {
   "display_name": "R",
   "language": "R",
   "name": "ir"
  },
  "language_info": {
   "codemirror_mode": "r",
   "file_extension": ".r",
   "mimetype": "text/x-r-source",
   "name": "R",
   "pygments_lexer": "r",
   "version": "3.6.1"
  }
 },
 "nbformat": 4,
 "nbformat_minor": 4
}
