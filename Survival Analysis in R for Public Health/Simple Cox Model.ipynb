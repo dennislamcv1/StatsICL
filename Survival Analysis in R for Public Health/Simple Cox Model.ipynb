{
 "cells": [
  {
   "cell_type": "code",
   "execution_count": 1,
   "metadata": {},
   "outputs": [],
   "source": [
    "library(survival)"
   ]
  },
  {
   "cell_type": "code",
   "execution_count": 3,
   "metadata": {},
   "outputs": [],
   "source": [
    "g = read.csv(\"final.csv\")"
   ]
  },
  {
   "cell_type": "code",
   "execution_count": 4,
   "metadata": {},
   "outputs": [
    {
     "data": {
      "text/plain": [
       "Call:\n",
       "coxph(formula = Surv(fu_time, death) ~ ethnicgroup, data = g)\n",
       "\n",
       "  n= 957, number of events= 471 \n",
       "   (43 observations deleted due to missingness)\n",
       "\n",
       "                coef exp(coef) se(coef)      z Pr(>|z|)\n",
       "ethnicgroup -0.04555   0.95547  0.05069 -0.899    0.369\n",
       "\n",
       "            exp(coef) exp(-coef) lower .95 upper .95\n",
       "ethnicgroup    0.9555      1.047    0.8651     1.055\n",
       "\n",
       "Concordance= 0.514  (se = 0.006 )\n",
       "Likelihood ratio test= 0.89  on 1 df,   p=0.3\n",
       "Wald test            = 0.81  on 1 df,   p=0.4\n",
       "Score (logrank) test = 0.81  on 1 df,   p=0.4\n"
      ]
     },
     "metadata": {},
     "output_type": "display_data"
    }
   ],
   "source": [
    "cox <- coxph(Surv(fu_time, death) ~ ethnicgroup, data = g) # take variables straight from g\n",
    "summary(cox)"
   ]
  },
  {
   "cell_type": "code",
   "execution_count": 5,
   "metadata": {},
   "outputs": [
    {
     "data": {
      "text/plain": [
       "Call:\n",
       "coxph(formula = Surv(fu_time, death) ~ ethnicgroup)\n",
       "\n",
       "  n= 957, number of events= 471 \n",
       "   (43 observations deleted due to missingness)\n",
       "\n",
       "                 coef exp(coef) se(coef)      z Pr(>|z|)   \n",
       "ethnicgroup2 -0.06428   0.93774  0.32000 -0.201  0.84078   \n",
       "ethnicgroup3 -1.19586   0.30244  0.41108 -2.909  0.00362 **\n",
       "ethnicgroup9  0.07394   1.07674  0.35706  0.207  0.83596   \n",
       "---\n",
       "Signif. codes:  0 '***' 0.001 '**' 0.01 '*' 0.05 '.' 0.1 ' ' 1\n",
       "\n",
       "             exp(coef) exp(-coef) lower .95 upper .95\n",
       "ethnicgroup2    0.9377     1.0664    0.5008    1.7558\n",
       "ethnicgroup3    0.3024     3.3064    0.1351    0.6769\n",
       "ethnicgroup9    1.0767     0.9287    0.5348    2.1679\n",
       "\n",
       "Concordance= 0.516  (se = 0.006 )\n",
       "Likelihood ratio test= 12.99  on 3 df,   p=0.005\n",
       "Wald test            = 8.55  on 3 df,   p=0.04\n",
       "Score (logrank) test = 9.61  on 3 df,   p=0.02\n"
      ]
     },
     "metadata": {},
     "output_type": "display_data"
    }
   ],
   "source": [
    "ethnicgroup <- factor(g[,\"ethnicgroup\"]) # can also use “as.factor” rather than “factor”\n",
    "fu_time <- g[,\"fu_time\"]\n",
    "death <- g[,\"death\"]\n",
    "\n",
    "cox <- coxph(Surv(fu_time, death) ~ ethnicgroup)\n",
    "summary(cox)"
   ]
  },
  {
   "cell_type": "code",
   "execution_count": 6,
   "metadata": {},
   "outputs": [
    {
     "name": "stdout",
     "output_type": "stream",
     "text": [
      "'data.frame':\t1000 obs. of  31 variables:\n",
      " $ id                  : int  1 2 3 4 5 6 7 8 9 10 ...\n",
      " $ death               : int  0 0 0 0 0 0 0 0 0 0 ...\n",
      " $ los                 : int  2 10 3 1 17 47 3 12 2 2 ...\n",
      " $ age                 : int  90 74 83 79 94 89 63 86 72 82 ...\n",
      " $ gender              : int  2 1 2 1 2 1 1 2 2 2 ...\n",
      " $ cancer              : int  0 0 0 0 0 0 0 0 0 0 ...\n",
      " $ cabg                : int  0 0 0 0 0 0 0 0 0 0 ...\n",
      " $ crt                 : int  0 0 0 0 0 0 0 0 0 0 ...\n",
      " $ defib               : int  0 0 0 0 0 0 0 0 0 0 ...\n",
      " $ dementia            : int  0 0 0 0 0 0 0 0 0 0 ...\n",
      " $ diabetes            : int  0 0 0 1 1 0 0 0 0 0 ...\n",
      " $ hypertension        : int  0 1 1 1 1 0 1 1 0 0 ...\n",
      " $ ihd                 : int  0 1 0 1 0 0 0 0 0 0 ...\n",
      " $ mental_health       : int  0 0 0 0 0 0 0 0 0 0 ...\n",
      " $ arrhythmias         : int  1 0 1 0 0 0 1 1 0 0 ...\n",
      " $ copd                : int  0 0 0 1 0 0 0 0 1 0 ...\n",
      " $ obesity             : int  0 0 0 0 0 0 0 0 0 0 ...\n",
      " $ pvd                 : int  0 0 0 0 0 1 0 0 0 0 ...\n",
      " $ renal_disease       : int  0 1 0 0 0 0 0 0 0 0 ...\n",
      " $ valvular_disease    : int  1 1 0 0 0 1 0 0 0 0 ...\n",
      " $ metastatic_cancer   : int  0 0 0 0 0 0 0 0 0 0 ...\n",
      " $ pacemaker           : int  0 0 0 1 0 0 0 0 0 0 ...\n",
      " $ pneumonia           : int  0 1 0 0 0 1 0 0 0 0 ...\n",
      " $ prior_appts_attended: int  4 9 1 9 3 3 0 13 2 4 ...\n",
      " $ prior_dnas          : int  0 1 0 2 0 0 0 1 0 1 ...\n",
      " $ pci                 : int  0 0 0 1 0 0 0 0 0 0 ...\n",
      " $ stroke              : int  0 0 0 1 0 0 0 0 1 0 ...\n",
      " $ senile              : int  0 0 0 0 0 0 0 0 0 0 ...\n",
      " $ quintile            : int  2 4 3 5 2 3 2 3 3 4 ...\n",
      " $ ethnicgroup         : int  NA 1 1 1 1 NA 1 1 1 1 ...\n",
      " $ fu_time             : int  416 648 466 441 371 47 656 12 530 551 ...\n"
     ]
    }
   ],
   "source": [
    "str(g)"
   ]
  },
  {
   "cell_type": "code",
   "execution_count": 8,
   "metadata": {},
   "outputs": [
    {
     "data": {
      "text/plain": [
       "   Min. 1st Qu.  Median    Mean 3rd Qu.    Max. \n",
       "  29.00   73.00   80.00   78.73   87.00  102.00 "
      ]
     },
     "metadata": {},
     "output_type": "display_data"
    }
   ],
   "source": [
    "summary(g$age)"
   ]
  },
  {
   "cell_type": "code",
   "execution_count": 15,
   "metadata": {},
   "outputs": [
    {
     "ename": "ERROR",
     "evalue": "Error in table(gender, exclude = NULL): object 'gender' not found\n",
     "output_type": "error",
     "traceback": [
      "Error in table(gender, exclude = NULL): object 'gender' not found\nTraceback:\n",
      "1. table(gender, exclude = NULL)"
     ]
    }
   ],
   "source": [
    "t <- table(gender, exclude=NULL)\n",
    "addmargins(t) # adds the total (a \"sum\" column)\n",
    "\n",
    "gender"
   ]
  },
  {
   "cell_type": "code",
   "execution_count": 14,
   "metadata": {},
   "outputs": [
    {
     "data": {
      "text/plain": [
       "Call:\n",
       "coxph(formula = Surv(fu_time, death) ~ age + gender + copd + \n",
       "    prior_dnas + ethnicgroup, data = g)\n",
       "\n",
       "  n= 957, number of events= 471 \n",
       "   (43 observations deleted due to missingness)\n",
       "\n",
       "                coef exp(coef) se(coef)      z Pr(>|z|)    \n",
       "age          0.06640   1.06865  0.00573 11.587  < 2e-16 ***\n",
       "gender      -0.29747   0.74270  0.09571 -3.108  0.00188 ** \n",
       "copd         0.07434   1.07717  0.10635  0.699  0.48458    \n",
       "prior_dnas   0.14898   1.16065  0.03600  4.139 3.49e-05 ***\n",
       "ethnicgroup  0.01666   1.01680  0.04926  0.338  0.73517    \n",
       "---\n",
       "Signif. codes:  0 '***' 0.001 '**' 0.01 '*' 0.05 '.' 0.1 ' ' 1\n",
       "\n",
       "            exp(coef) exp(-coef) lower .95 upper .95\n",
       "age            1.0687     0.9358    1.0567    1.0807\n",
       "gender         0.7427     1.3464    0.6157    0.8959\n",
       "copd           1.0772     0.9284    0.8745    1.3268\n",
       "prior_dnas     1.1607     0.8616    1.0816    1.2455\n",
       "ethnicgroup    1.0168     0.9835    0.9232    1.1199\n",
       "\n",
       "Concordance= 0.669  (se = 0.013 )\n",
       "Likelihood ratio test= 164.4  on 5 df,   p=<2e-16\n",
       "Wald test            = 138.8  on 5 df,   p=<2e-16\n",
       "Score (logrank) test = 135.6  on 5 df,   p=<2e-16\n"
      ]
     },
     "metadata": {},
     "output_type": "display_data"
    }
   ],
   "source": [
    "cox <- coxph(Surv(fu_time, death) ~ age + gender + copd + prior_dnas + ethnicgroup, data = g)\n",
    "\n",
    "summary(cox)"
   ]
  },
  {
   "cell_type": "code",
   "execution_count": null,
   "metadata": {},
   "outputs": [],
   "source": []
  }
 ],
 "metadata": {
  "kernelspec": {
   "display_name": "R",
   "language": "R",
   "name": "ir"
  },
  "language_info": {
   "codemirror_mode": "r",
   "file_extension": ".r",
   "mimetype": "text/x-r-source",
   "name": "R",
   "pygments_lexer": "r",
   "version": "3.6.1"
  }
 },
 "nbformat": 4,
 "nbformat_minor": 4
}
