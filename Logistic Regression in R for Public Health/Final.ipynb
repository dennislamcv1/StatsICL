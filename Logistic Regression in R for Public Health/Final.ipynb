{
 "cells": [
  {
   "cell_type": "markdown",
   "metadata": {},
   "source": [
    "Question 1\n",
    "\n",
    "Using the same data set as before, now try another model with these predictor variables: age, cholesterol and insurance type.  The data set can be downloaded here.\n",
    "\n",
    "Enter the odds ratios for each predictor in the boxes below to two decimal places. Check whether each one is considered statistically significant at the conventional 5% threshold.   "
   ]
  },
  {
   "cell_type": "code",
   "execution_count": 1,
   "metadata": {},
   "outputs": [
    {
     "name": "stderr",
     "output_type": "stream",
     "text": [
      "Registered S3 methods overwritten by 'ggplot2':\n",
      "  method         from \n",
      "  [.quosures     rlang\n",
      "  c.quosures     rlang\n",
      "  print.quosures rlang\n",
      "\n",
      "Attaching package: 'dplyr'\n",
      "\n",
      "The following objects are masked from 'package:stats':\n",
      "\n",
      "    filter, lag\n",
      "\n",
      "The following objects are masked from 'package:base':\n",
      "\n",
      "    intersect, setdiff, setequal, union\n",
      "\n"
     ]
    }
   ],
   "source": [
    "library(ggplot2)\n",
    "library(dplyr)"
   ]
  },
  {
   "cell_type": "code",
   "execution_count": 12,
   "metadata": {},
   "outputs": [],
   "source": [
    "df = read.csv(file = 'diabetes.csv')"
   ]
  },
  {
   "cell_type": "code",
   "execution_count": 3,
   "metadata": {},
   "outputs": [
    {
     "data": {
      "text/html": [
       "<table>\n",
       "<thead><tr><th scope=col>id</th><th scope=col>chol</th><th scope=col>stab.glu</th><th scope=col>hdl</th><th scope=col>ratio</th><th scope=col>glyhb</th><th scope=col>location</th><th scope=col>age</th><th scope=col>gender</th><th scope=col>height</th><th scope=col>...</th><th scope=col>bp.1d</th><th scope=col>bp.2s</th><th scope=col>bp.2d</th><th scope=col>waist</th><th scope=col>hip</th><th scope=col>time.ppn</th><th scope=col>insurance</th><th scope=col>fh</th><th scope=col>smoking</th><th scope=col>dm</th></tr></thead>\n",
       "<tbody>\n",
       "\t<tr><td>1000      </td><td>203       </td><td>82        </td><td>56        </td><td>3.6       </td><td>4.31      </td><td>Buckingham</td><td>46        </td><td>female    </td><td>62        </td><td>...       </td><td>59        </td><td> NA       </td><td>NA        </td><td>29        </td><td>38        </td><td>720       </td><td>1         </td><td>0         </td><td>3         </td><td>no        </td></tr>\n",
       "\t<tr><td>1001      </td><td>165       </td><td>97        </td><td>24        </td><td>6.9       </td><td>4.44      </td><td>Buckingham</td><td>29        </td><td>female    </td><td>64        </td><td>...       </td><td>68        </td><td> NA       </td><td>NA        </td><td>46        </td><td>48        </td><td>360       </td><td>0         </td><td>0         </td><td>2         </td><td>no        </td></tr>\n",
       "\t<tr><td>1002      </td><td>228       </td><td>92        </td><td>37        </td><td>6.2       </td><td>4.64      </td><td>Buckingham</td><td>58        </td><td>female    </td><td>61        </td><td>...       </td><td>92        </td><td>185       </td><td>92        </td><td>49        </td><td>57        </td><td>180       </td><td>2         </td><td>0         </td><td>2         </td><td>no        </td></tr>\n",
       "\t<tr><td>1003      </td><td> 78       </td><td>93        </td><td>12        </td><td>6.5       </td><td>4.63      </td><td>Buckingham</td><td>67        </td><td>male      </td><td>67        </td><td>...       </td><td>50        </td><td> NA       </td><td>NA        </td><td>33        </td><td>38        </td><td>480       </td><td>1         </td><td>0         </td><td>3         </td><td>no        </td></tr>\n",
       "\t<tr><td>1005      </td><td>249       </td><td>90        </td><td>28        </td><td>8.9       </td><td>7.72      </td><td>Buckingham</td><td>64        </td><td>male      </td><td>68        </td><td>...       </td><td>80        </td><td> NA       </td><td>NA        </td><td>44        </td><td>41        </td><td>300       </td><td>0         </td><td>0         </td><td>3         </td><td>yes       </td></tr>\n",
       "\t<tr><td>1008      </td><td>248       </td><td>94        </td><td>69        </td><td>3.6       </td><td>4.81      </td><td>Buckingham</td><td>34        </td><td>male      </td><td>71        </td><td>...       </td><td>86        </td><td> NA       </td><td>NA        </td><td>36        </td><td>42        </td><td>195       </td><td>1         </td><td>0         </td><td>1         </td><td>no        </td></tr>\n",
       "</tbody>\n",
       "</table>\n"
      ],
      "text/latex": [
       "\\begin{tabular}{r|lllllllllllllllllllllll}\n",
       " id & chol & stab.glu & hdl & ratio & glyhb & location & age & gender & height & ... & bp.1d & bp.2s & bp.2d & waist & hip & time.ppn & insurance & fh & smoking & dm\\\\\n",
       "\\hline\n",
       "\t 1000       & 203        & 82         & 56         & 3.6        & 4.31       & Buckingham & 46         & female     & 62         & ...        & 59         &  NA        & NA         & 29         & 38         & 720        & 1          & 0          & 3          & no        \\\\\n",
       "\t 1001       & 165        & 97         & 24         & 6.9        & 4.44       & Buckingham & 29         & female     & 64         & ...        & 68         &  NA        & NA         & 46         & 48         & 360        & 0          & 0          & 2          & no        \\\\\n",
       "\t 1002       & 228        & 92         & 37         & 6.2        & 4.64       & Buckingham & 58         & female     & 61         & ...        & 92         & 185        & 92         & 49         & 57         & 180        & 2          & 0          & 2          & no        \\\\\n",
       "\t 1003       &  78        & 93         & 12         & 6.5        & 4.63       & Buckingham & 67         & male       & 67         & ...        & 50         &  NA        & NA         & 33         & 38         & 480        & 1          & 0          & 3          & no        \\\\\n",
       "\t 1005       & 249        & 90         & 28         & 8.9        & 7.72       & Buckingham & 64         & male       & 68         & ...        & 80         &  NA        & NA         & 44         & 41         & 300        & 0          & 0          & 3          & yes       \\\\\n",
       "\t 1008       & 248        & 94         & 69         & 3.6        & 4.81       & Buckingham & 34         & male       & 71         & ...        & 86         &  NA        & NA         & 36         & 42         & 195        & 1          & 0          & 1          & no        \\\\\n",
       "\\end{tabular}\n"
      ],
      "text/markdown": [
       "\n",
       "| id | chol | stab.glu | hdl | ratio | glyhb | location | age | gender | height | ... | bp.1d | bp.2s | bp.2d | waist | hip | time.ppn | insurance | fh | smoking | dm |\n",
       "|---|---|---|---|---|---|---|---|---|---|---|---|---|---|---|---|---|---|---|---|---|\n",
       "| 1000       | 203        | 82         | 56         | 3.6        | 4.31       | Buckingham | 46         | female     | 62         | ...        | 59         |  NA        | NA         | 29         | 38         | 720        | 1          | 0          | 3          | no         |\n",
       "| 1001       | 165        | 97         | 24         | 6.9        | 4.44       | Buckingham | 29         | female     | 64         | ...        | 68         |  NA        | NA         | 46         | 48         | 360        | 0          | 0          | 2          | no         |\n",
       "| 1002       | 228        | 92         | 37         | 6.2        | 4.64       | Buckingham | 58         | female     | 61         | ...        | 92         | 185        | 92         | 49         | 57         | 180        | 2          | 0          | 2          | no         |\n",
       "| 1003       |  78        | 93         | 12         | 6.5        | 4.63       | Buckingham | 67         | male       | 67         | ...        | 50         |  NA        | NA         | 33         | 38         | 480        | 1          | 0          | 3          | no         |\n",
       "| 1005       | 249        | 90         | 28         | 8.9        | 7.72       | Buckingham | 64         | male       | 68         | ...        | 80         |  NA        | NA         | 44         | 41         | 300        | 0          | 0          | 3          | yes        |\n",
       "| 1008       | 248        | 94         | 69         | 3.6        | 4.81       | Buckingham | 34         | male       | 71         | ...        | 86         |  NA        | NA         | 36         | 42         | 195        | 1          | 0          | 1          | no         |\n",
       "\n"
      ],
      "text/plain": [
       "  id   chol stab.glu hdl ratio glyhb location   age gender height ... bp.1d\n",
       "1 1000 203  82       56  3.6   4.31  Buckingham 46  female 62     ... 59   \n",
       "2 1001 165  97       24  6.9   4.44  Buckingham 29  female 64     ... 68   \n",
       "3 1002 228  92       37  6.2   4.64  Buckingham 58  female 61     ... 92   \n",
       "4 1003  78  93       12  6.5   4.63  Buckingham 67  male   67     ... 50   \n",
       "5 1005 249  90       28  8.9   7.72  Buckingham 64  male   68     ... 80   \n",
       "6 1008 248  94       69  3.6   4.81  Buckingham 34  male   71     ... 86   \n",
       "  bp.2s bp.2d waist hip time.ppn insurance fh smoking dm \n",
       "1  NA   NA    29    38  720      1         0  3       no \n",
       "2  NA   NA    46    48  360      0         0  2       no \n",
       "3 185   92    49    57  180      2         0  2       no \n",
       "4  NA   NA    33    38  480      1         0  3       no \n",
       "5  NA   NA    44    41  300      0         0  3       yes\n",
       "6  NA   NA    36    42  195      1         0  1       no "
      ]
     },
     "metadata": {},
     "output_type": "display_data"
    }
   ],
   "source": [
    "head(df)"
   ]
  },
  {
   "cell_type": "code",
   "execution_count": 4,
   "metadata": {},
   "outputs": [
    {
     "name": "stdout",
     "output_type": "stream",
     "text": [
      "'data.frame':\t403 obs. of  23 variables:\n",
      " $ id       : int  1000 1001 1002 1003 1005 1008 1011 1015 1016 1022 ...\n",
      " $ chol     : int  203 165 228 78 249 248 195 227 177 263 ...\n",
      " $ stab.glu : int  82 97 92 93 90 94 92 75 87 89 ...\n",
      " $ hdl      : int  56 24 37 12 28 69 41 44 49 40 ...\n",
      " $ ratio    : num  3.6 6.9 6.2 6.5 8.9 ...\n",
      " $ glyhb    : num  4.31 4.44 4.64 4.63 7.72 ...\n",
      " $ location : Factor w/ 2 levels \"Buckingham\",\"Louisa\": 1 1 1 1 1 1 1 1 1 1 ...\n",
      " $ age      : int  46 29 58 67 64 34 30 37 45 55 ...\n",
      " $ gender   : Factor w/ 2 levels \"female\",\"male\": 1 1 1 2 2 2 2 2 2 1 ...\n",
      " $ height   : int  62 64 61 67 68 71 69 59 69 63 ...\n",
      " $ weight   : int  121 218 256 119 183 190 191 170 166 202 ...\n",
      " $ frame    : Factor w/ 4 levels \"\",\"large\",\"medium\",..: 3 2 2 2 3 2 3 3 2 4 ...\n",
      " $ bp.1s    : int  118 112 190 110 138 132 161 NA 160 108 ...\n",
      " $ bp.1d    : int  59 68 92 50 80 86 112 NA 80 72 ...\n",
      " $ bp.2s    : int  NA NA 185 NA NA NA 161 NA 128 NA ...\n",
      " $ bp.2d    : int  NA NA 92 NA NA NA 112 NA 86 NA ...\n",
      " $ waist    : int  29 46 49 33 44 36 46 34 34 45 ...\n",
      " $ hip      : int  38 48 57 38 41 42 49 39 40 50 ...\n",
      " $ time.ppn : int  720 360 180 480 300 195 720 1020 300 240 ...\n",
      " $ insurance: int  1 0 2 1 0 1 2 0 2 2 ...\n",
      " $ fh       : int  0 0 0 0 0 0 1 0 1 0 ...\n",
      " $ smoking  : int  3 2 2 3 3 1 2 2 1 2 ...\n",
      " $ dm       : Factor w/ 2 levels \"no\",\"yes\": 1 1 1 1 2 1 1 1 1 1 ...\n"
     ]
    }
   ],
   "source": [
    "str(df)"
   ]
  },
  {
   "cell_type": "code",
   "execution_count": 5,
   "metadata": {},
   "outputs": [
    {
     "data": {
      "image/png": "[encoded data removed]",
      "text/plain": [
       "plot without title"
      ]
     },
     "metadata": {},
     "output_type": "display_data"
    }
   ],
   "source": [
    "ggplot(df, aes(dm)) + geom_bar()"
   ]
  },
  {
   "cell_type": "code",
   "execution_count": 6,
   "metadata": {},
   "outputs": [
    {
     "data": {
      "image/png": "[encoded data removed]",
      "text/plain": [
       "plot without title"
      ]
     },
     "metadata": {},
     "output_type": "display_data"
    }
   ],
   "source": [
    "ggplot(df, aes(insurance)) + geom_bar(aes(fill=factor(insurance)))"
   ]
  },
  {
   "cell_type": "code",
   "execution_count": 7,
   "metadata": {},
   "outputs": [
    {
     "name": "stderr",
     "output_type": "stream",
     "text": [
      "`stat_bin()` using `bins = 30`. Pick better value with `binwidth`.\n"
     ]
    },
    {
     "data": {
      "image/png": "[encoded data removed]",
      "text/plain": [
       "plot without title"
      ]
     },
     "metadata": {},
     "output_type": "display_data"
    }
   ],
   "source": [
    "ggplot(df, aes(age)) + geom_histogram(fill='red')"
   ]
  },
  {
   "cell_type": "code",
   "execution_count": 8,
   "metadata": {},
   "outputs": [
    {
     "name": "stderr",
     "output_type": "stream",
     "text": [
      "Warning message:\n",
      "\"Removed 1 rows containing non-finite values (stat_bin).\""
     ]
    },
    {
     "data": {
      "image/png": "[encoded data removed]",
      "text/plain": [
       "plot without title"
      ]
     },
     "metadata": {},
     "output_type": "display_data"
    }
   ],
   "source": [
    "ggplot(df, aes(chol)) + geom_histogram(bins=50, fill='blue')"
   ]
  },
  {
   "cell_type": "code",
   "execution_count": 13,
   "metadata": {},
   "outputs": [],
   "source": [
    "df = select(df, age, chol, insurance, dm)"
   ]
  },
  {
   "cell_type": "code",
   "execution_count": 15,
   "metadata": {},
   "outputs": [
    {
     "data": {
      "text/html": [
       "<table>\n",
       "<thead><tr><th scope=col>age</th><th scope=col>chol</th><th scope=col>insurance</th><th scope=col>dm</th></tr></thead>\n",
       "<tbody>\n",
       "\t<tr><td>46 </td><td>203</td><td>1  </td><td>no </td></tr>\n",
       "\t<tr><td>29 </td><td>165</td><td>0  </td><td>no </td></tr>\n",
       "\t<tr><td>58 </td><td>228</td><td>2  </td><td>no </td></tr>\n",
       "\t<tr><td>67 </td><td> 78</td><td>1  </td><td>no </td></tr>\n",
       "\t<tr><td>64 </td><td>249</td><td>0  </td><td>yes</td></tr>\n",
       "\t<tr><td>34 </td><td>248</td><td>1  </td><td>no </td></tr>\n",
       "</tbody>\n",
       "</table>\n"
      ],
      "text/latex": [
       "\\begin{tabular}{r|llll}\n",
       " age & chol & insurance & dm\\\\\n",
       "\\hline\n",
       "\t 46  & 203 & 1   & no \\\\\n",
       "\t 29  & 165 & 0   & no \\\\\n",
       "\t 58  & 228 & 2   & no \\\\\n",
       "\t 67  &  78 & 1   & no \\\\\n",
       "\t 64  & 249 & 0   & yes\\\\\n",
       "\t 34  & 248 & 1   & no \\\\\n",
       "\\end{tabular}\n"
      ],
      "text/markdown": [
       "\n",
       "| age | chol | insurance | dm |\n",
       "|---|---|---|---|\n",
       "| 46  | 203 | 1   | no  |\n",
       "| 29  | 165 | 0   | no  |\n",
       "| 58  | 228 | 2   | no  |\n",
       "| 67  |  78 | 1   | no  |\n",
       "| 64  | 249 | 0   | yes |\n",
       "| 34  | 248 | 1   | no  |\n",
       "\n"
      ],
      "text/plain": [
       "  age chol insurance dm \n",
       "1 46  203  1         no \n",
       "2 29  165  0         no \n",
       "3 58  228  2         no \n",
       "4 67   78  1         no \n",
       "5 64  249  0         yes\n",
       "6 34  248  1         no "
      ]
     },
     "metadata": {},
     "output_type": "display_data"
    }
   ],
   "source": [
    "head(df)"
   ]
  },
  {
   "cell_type": "code",
   "execution_count": 16,
   "metadata": {},
   "outputs": [
    {
     "name": "stdout",
     "output_type": "stream",
     "text": [
      "'data.frame':\t403 obs. of  4 variables:\n",
      " $ age      : int  46 29 58 67 64 34 30 37 45 55 ...\n",
      " $ chol     : int  203 165 228 78 249 248 195 227 177 263 ...\n",
      " $ insurance: int  1 0 2 1 0 1 2 0 2 2 ...\n",
      " $ dm       : Factor w/ 2 levels \"no\",\"yes\": 1 1 1 1 2 1 1 1 1 1 ...\n"
     ]
    }
   ],
   "source": [
    "str(df)"
   ]
  },
  {
   "cell_type": "code",
   "execution_count": 17,
   "metadata": {},
   "outputs": [],
   "source": [
    "df$insurance = factor(df$insurance)"
   ]
  },
  {
   "cell_type": "code",
   "execution_count": 18,
   "metadata": {},
   "outputs": [
    {
     "name": "stdout",
     "output_type": "stream",
     "text": [
      "'data.frame':\t403 obs. of  4 variables:\n",
      " $ age      : int  46 29 58 67 64 34 30 37 45 55 ...\n",
      " $ chol     : int  203 165 228 78 249 248 195 227 177 263 ...\n",
      " $ insurance: Factor w/ 3 levels \"0\",\"1\",\"2\": 2 1 3 2 1 2 3 1 3 3 ...\n",
      " $ dm       : Factor w/ 2 levels \"no\",\"yes\": 1 1 1 1 2 1 1 1 1 1 ...\n"
     ]
    }
   ],
   "source": [
    "str(df)"
   ]
  },
  {
   "cell_type": "code",
   "execution_count": 24,
   "metadata": {},
   "outputs": [],
   "source": [
    "logmodel = glm(dm ~ .,family = binomial(link = 'logit'), data = df)"
   ]
  },
  {
   "cell_type": "code",
   "execution_count": 28,
   "metadata": {},
   "outputs": [
    {
     "data": {
      "text/plain": [
       "\n",
       "Call:  glm(formula = dm ~ ., family = binomial(link = \"logit\"), data = df)\n",
       "\n",
       "Coefficients:\n",
       "(Intercept)          age         chol   insurance1   insurance2  \n",
       "  -5.794252     0.049753     0.008402    -0.271955    -0.589803  \n",
       "\n",
       "Degrees of Freedom: 388 Total (i.e. Null);  384 Residual\n",
       "  (14 observations deleted due to missingness)\n",
       "Null Deviance:\t    334.5 \n",
       "Residual Deviance: 289.3 \tAIC: 299.3"
      ]
     },
     "metadata": {},
     "output_type": "display_data"
    }
   ],
   "source": [
    "logmodel"
   ]
  },
  {
   "cell_type": "code",
   "execution_count": 29,
   "metadata": {},
   "outputs": [
    {
     "data": {
      "text/plain": [
       "\n",
       "Call:\n",
       "glm(formula = dm ~ ., family = binomial(link = \"logit\"), data = df)\n",
       "\n",
       "Deviance Residuals: \n",
       "    Min       1Q   Median       3Q      Max  \n",
       "-1.5714  -0.5945  -0.3992  -0.2619   2.4399  \n",
       "\n",
       "Coefficients:\n",
       "             Estimate Std. Error z value Pr(>|z|)    \n",
       "(Intercept) -5.794252   0.874555  -6.625 3.46e-11 ***\n",
       "age          0.049753   0.009770   5.092 3.54e-07 ***\n",
       "chol         0.008402   0.003153   2.665   0.0077 ** \n",
       "insurance1  -0.271955   0.359445  -0.757   0.4493    \n",
       "insurance2  -0.589803   0.377434  -1.563   0.1181    \n",
       "---\n",
       "Signif. codes:  0 '***' 0.001 '**' 0.01 '*' 0.05 '.' 0.1 ' ' 1\n",
       "\n",
       "(Dispersion parameter for binomial family taken to be 1)\n",
       "\n",
       "    Null deviance: 334.54  on 388  degrees of freedom\n",
       "Residual deviance: 289.28  on 384  degrees of freedom\n",
       "  (14 observations deleted due to missingness)\n",
       "AIC: 299.28\n",
       "\n",
       "Number of Fisher Scoring iterations: 5\n"
      ]
     },
     "metadata": {},
     "output_type": "display_data"
    }
   ],
   "source": [
    "summary(logmodel)"
   ]
  },
  {
   "cell_type": "code",
   "execution_count": 30,
   "metadata": {},
   "outputs": [
    {
     "data": {
      "text/html": [
       "0.761888545302976"
      ],
      "text/latex": [
       "0.761888545302976"
      ],
      "text/markdown": [
       "0.761888545302976"
      ],
      "text/plain": [
       "[1] 0.7618885"
      ]
     },
     "metadata": {},
     "output_type": "display_data"
    }
   ],
   "source": [
    "exp(-0.271955)"
   ]
  },
  {
   "cell_type": "code",
   "execution_count": 31,
   "metadata": {},
   "outputs": [
    {
     "data": {
      "text/html": [
       "0.55443649796675"
      ],
      "text/latex": [
       "0.55443649796675"
      ],
      "text/markdown": [
       "0.55443649796675"
      ],
      "text/plain": [
       "[1] 0.5544365"
      ]
     },
     "metadata": {},
     "output_type": "display_data"
    }
   ],
   "source": [
    "exp(-0.589803)"
   ]
  },
  {
   "cell_type": "code",
   "execution_count": 32,
   "metadata": {},
   "outputs": [
    {
     "data": {
      "text/html": [
       "1.05101146448108"
      ],
      "text/latex": [
       "1.05101146448108"
      ],
      "text/markdown": [
       "1.05101146448108"
      ],
      "text/plain": [
       "[1] 1.051011"
      ]
     },
     "metadata": {},
     "output_type": "display_data"
    }
   ],
   "source": [
    "exp(0.049753)"
   ]
  },
  {
   "cell_type": "code",
   "execution_count": 33,
   "metadata": {},
   "outputs": [
    {
     "data": {
      "text/html": [
       "1.00843739586457"
      ],
      "text/latex": [
       "1.00843739586457"
      ],
      "text/markdown": [
       "1.00843739586457"
      ],
      "text/plain": [
       "[1] 1.008437"
      ]
     },
     "metadata": {},
     "output_type": "display_data"
    }
   ],
   "source": [
    "exp(0.008402)"
   ]
  },
  {
   "cell_type": "code",
   "execution_count": null,
   "metadata": {},
   "outputs": [],
   "source": []
  }
 ],
 "metadata": {
  "kernelspec": {
   "display_name": "R",
   "language": "R",
   "name": "ir"
  },
  "language_info": {
   "codemirror_mode": "r",
   "file_extension": ".r",
   "mimetype": "text/x-r-source",
   "name": "R",
   "pygments_lexer": "r",
   "version": "3.6.1"
  }
 },
 "nbformat": 4,
 "nbformat_minor": 4
}
