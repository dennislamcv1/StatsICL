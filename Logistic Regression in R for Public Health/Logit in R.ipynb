{
 "cells": [
  {
   "cell_type": "code",
   "execution_count": 1,
   "metadata": {},
   "outputs": [],
   "source": [
    "g <- read.csv(file = \"diabetes.csv\", header = TRUE, sep = ',')"
   ]
  },
  {
   "cell_type": "code",
   "execution_count": 2,
   "metadata": {},
   "outputs": [
    {
     "data": {
      "text/html": [
       "<ol class=list-inline>\n",
       "\t<li>403</li>\n",
       "\t<li>23</li>\n",
       "</ol>\n"
      ],
      "text/latex": [
       "\\begin{enumerate*}\n",
       "\\item 403\n",
       "\\item 23\n",
       "\\end{enumerate*}\n"
      ],
      "text/markdown": [
       "1. 403\n",
       "2. 23\n",
       "\n",
       "\n"
      ],
      "text/plain": [
       "[1] 403  23"
      ]
     },
     "metadata": {},
     "output_type": "display_data"
    }
   ],
   "source": [
    "dim(g)"
   ]
  },
  {
   "cell_type": "code",
   "execution_count": 3,
   "metadata": {},
   "outputs": [
    {
     "data": {
      "text/html": [
       "<ol class=list-inline>\n",
       "\t<li>'id'</li>\n",
       "\t<li>'chol'</li>\n",
       "\t<li>'stab.glu'</li>\n",
       "\t<li>'hdl'</li>\n",
       "\t<li>'ratio'</li>\n",
       "\t<li>'glyhb'</li>\n",
       "\t<li>'location'</li>\n",
       "\t<li>'age'</li>\n",
       "\t<li>'gender'</li>\n",
       "\t<li>'height'</li>\n",
       "\t<li>'weight'</li>\n",
       "\t<li>'frame'</li>\n",
       "\t<li>'bp.1s'</li>\n",
       "\t<li>'bp.1d'</li>\n",
       "\t<li>'bp.2s'</li>\n",
       "\t<li>'bp.2d'</li>\n",
       "\t<li>'waist'</li>\n",
       "\t<li>'hip'</li>\n",
       "\t<li>'time.ppn'</li>\n",
       "\t<li>'insurance'</li>\n",
       "\t<li>'fh'</li>\n",
       "\t<li>'smoking'</li>\n",
       "\t<li>'dm'</li>\n",
       "</ol>\n"
      ],
      "text/latex": [
       "\\begin{enumerate*}\n",
       "\\item 'id'\n",
       "\\item 'chol'\n",
       "\\item 'stab.glu'\n",
       "\\item 'hdl'\n",
       "\\item 'ratio'\n",
       "\\item 'glyhb'\n",
       "\\item 'location'\n",
       "\\item 'age'\n",
       "\\item 'gender'\n",
       "\\item 'height'\n",
       "\\item 'weight'\n",
       "\\item 'frame'\n",
       "\\item 'bp.1s'\n",
       "\\item 'bp.1d'\n",
       "\\item 'bp.2s'\n",
       "\\item 'bp.2d'\n",
       "\\item 'waist'\n",
       "\\item 'hip'\n",
       "\\item 'time.ppn'\n",
       "\\item 'insurance'\n",
       "\\item 'fh'\n",
       "\\item 'smoking'\n",
       "\\item 'dm'\n",
       "\\end{enumerate*}\n"
      ],
      "text/markdown": [
       "1. 'id'\n",
       "2. 'chol'\n",
       "3. 'stab.glu'\n",
       "4. 'hdl'\n",
       "5. 'ratio'\n",
       "6. 'glyhb'\n",
       "7. 'location'\n",
       "8. 'age'\n",
       "9. 'gender'\n",
       "10. 'height'\n",
       "11. 'weight'\n",
       "12. 'frame'\n",
       "13. 'bp.1s'\n",
       "14. 'bp.1d'\n",
       "15. 'bp.2s'\n",
       "16. 'bp.2d'\n",
       "17. 'waist'\n",
       "18. 'hip'\n",
       "19. 'time.ppn'\n",
       "20. 'insurance'\n",
       "21. 'fh'\n",
       "22. 'smoking'\n",
       "23. 'dm'\n",
       "\n",
       "\n"
      ],
      "text/plain": [
       " [1] \"id\"        \"chol\"      \"stab.glu\"  \"hdl\"       \"ratio\"     \"glyhb\"    \n",
       " [7] \"location\"  \"age\"       \"gender\"    \"height\"    \"weight\"    \"frame\"    \n",
       "[13] \"bp.1s\"     \"bp.1d\"     \"bp.2s\"     \"bp.2d\"     \"waist\"     \"hip\"      \n",
       "[19] \"time.ppn\"  \"insurance\" \"fh\"        \"smoking\"   \"dm\"       "
      ]
     },
     "metadata": {},
     "output_type": "display_data"
    }
   ],
   "source": [
    "colnames(g)"
   ]
  },
  {
   "cell_type": "code",
   "execution_count": 4,
   "metadata": {},
   "outputs": [
    {
     "name": "stdout",
     "output_type": "stream",
     "text": [
      "'data.frame':\t403 obs. of  23 variables:\n",
      " $ id       : int  1000 1001 1002 1003 1005 1008 1011 1015 1016 1022 ...\n",
      " $ chol     : int  203 165 228 78 249 248 195 227 177 263 ...\n",
      " $ stab.glu : int  82 97 92 93 90 94 92 75 87 89 ...\n",
      " $ hdl      : int  56 24 37 12 28 69 41 44 49 40 ...\n",
      " $ ratio    : num  3.6 6.9 6.2 6.5 8.9 ...\n",
      " $ glyhb    : num  4.31 4.44 4.64 4.63 7.72 ...\n",
      " $ location : Factor w/ 2 levels \"Buckingham\",\"Louisa\": 1 1 1 1 1 1 1 1 1 1 ...\n",
      " $ age      : int  46 29 58 67 64 34 30 37 45 55 ...\n",
      " $ gender   : Factor w/ 2 levels \"female\",\"male\": 1 1 1 2 2 2 2 2 2 1 ...\n",
      " $ height   : int  62 64 61 67 68 71 69 59 69 63 ...\n",
      " $ weight   : int  121 218 256 119 183 190 191 170 166 202 ...\n",
      " $ frame    : Factor w/ 4 levels \"\",\"large\",\"medium\",..: 3 2 2 2 3 2 3 3 2 4 ...\n",
      " $ bp.1s    : int  118 112 190 110 138 132 161 NA 160 108 ...\n",
      " $ bp.1d    : int  59 68 92 50 80 86 112 NA 80 72 ...\n",
      " $ bp.2s    : int  NA NA 185 NA NA NA 161 NA 128 NA ...\n",
      " $ bp.2d    : int  NA NA 92 NA NA NA 112 NA 86 NA ...\n",
      " $ waist    : int  29 46 49 33 44 36 46 34 34 45 ...\n",
      " $ hip      : int  38 48 57 38 41 42 49 39 40 50 ...\n",
      " $ time.ppn : int  720 360 180 480 300 195 720 1020 300 240 ...\n",
      " $ insurance: int  1 0 2 1 0 1 2 0 2 2 ...\n",
      " $ fh       : int  0 0 0 0 0 0 1 0 1 0 ...\n",
      " $ smoking  : int  3 2 2 3 3 1 2 2 1 2 ...\n",
      " $ dm       : Factor w/ 2 levels \"no\",\"yes\": 1 1 1 1 2 1 1 1 1 1 ...\n"
     ]
    }
   ],
   "source": [
    "str(g)"
   ]
  },
  {
   "cell_type": "code",
   "execution_count": null,
   "metadata": {},
   "outputs": [],
   "source": [
    "chol <- g['chol'] # cholesterol is continuous, so it’s easy\n",
    "gender <- as.factor(g[,'gender']) # but gender isn’t.\n",
    "dm <- as.factor(g[,'dm']) # neither is dm"
   ]
  },
  {
   "cell_type": "code",
   "execution_count": null,
   "metadata": {},
   "outputs": [],
   "source": [
    "t <- table(gender) \n",
    "addmargins(t)"
   ]
  },
  {
   "cell_type": "code",
   "execution_count": null,
   "metadata": {},
   "outputs": [],
   "source": [
    "round(prop.table(t),digits=3)"
   ]
  },
  {
   "cell_type": "code",
   "execution_count": null,
   "metadata": {},
   "outputs": [],
   "source": [
    "age <- g[,\"age\"] "
   ]
  },
  {
   "cell_type": "code",
   "execution_count": null,
   "metadata": {},
   "outputs": [],
   "source": [
    "# creating a categorical variable \"age_grouped\" \n",
    "age_grouped <- ifelse(age < 45, \"under 45\", \n",
    "                      ifelse(age >= 45 & age < 65, \"45 - 64\",  \n",
    "                             ifelse(age >= 65 & age < 75, \"65 - 74\",  \n",
    "                                    ifelse(age >= 75, \"75 or over\", NA)))) "
   ]
  },
  {
   "cell_type": "code",
   "execution_count": null,
   "metadata": {},
   "outputs": [],
   "source": [
    "# displaying new variable in a table \n",
    "table(age_grouped, exclude = NULL) "
   ]
  },
  {
   "cell_type": "code",
   "execution_count": null,
   "metadata": {},
   "outputs": [],
   "source": [
    "# cross tabulating with gender \n",
    "age_group_by_gender <- table(age_grouped, gender, exclude = NULL) "
   ]
  },
  {
   "cell_type": "code",
   "execution_count": null,
   "metadata": {},
   "outputs": [],
   "source": [
    "# display the cross tabulation \n",
    "age_group_by_gender "
   ]
  },
  {
   "cell_type": "code",
   "execution_count": null,
   "metadata": {},
   "outputs": [],
   "source": [
    "glm(dm ~ 1, family=binomial (link=logit))"
   ]
  },
  {
   "cell_type": "code",
   "execution_count": null,
   "metadata": {},
   "outputs": [],
   "source": [
    "m <- glm(dm ~ 1, family=binomial (link=logit))\n",
    "summary(m)"
   ]
  },
  {
   "cell_type": "code",
   "execution_count": null,
   "metadata": {},
   "outputs": [],
   "source": [
    "exp(-1.7047)"
   ]
  },
  {
   "cell_type": "code",
   "execution_count": null,
   "metadata": {},
   "outputs": [],
   "source": [
    "table(m$y)"
   ]
  },
  {
   "cell_type": "code",
   "execution_count": null,
   "metadata": {},
   "outputs": [],
   "source": [
    "m <- glm(dm ~ gender, family=binomial (link=logit))\n",
    "summary(m)"
   ]
  },
  {
   "cell_type": "code",
   "execution_count": null,
   "metadata": {},
   "outputs": [],
   "source": [
    "contrasts(gender)"
   ]
  },
  {
   "cell_type": "code",
   "execution_count": null,
   "metadata": {},
   "outputs": [],
   "source": [
    "levels(gender) "
   ]
  },
  {
   "cell_type": "code",
   "execution_count": null,
   "metadata": {},
   "outputs": [],
   "source": [
    "m$coefficients"
   ]
  },
  {
   "cell_type": "code",
   "execution_count": null,
   "metadata": {},
   "outputs": [],
   "source": [
    "exp(m$coefficients)"
   ]
  },
  {
   "cell_type": "code",
   "execution_count": null,
   "metadata": {},
   "outputs": [],
   "source": [
    "m <- glm(dm ~ age, family=binomial (link=logit))\n",
    "summary(m)"
   ]
  },
  {
   "cell_type": "code",
   "execution_count": null,
   "metadata": {},
   "outputs": [],
   "source": [
    "# create a cross tabulation of age and diabetes status  \n",
    "dm_by_age <- table(age, dm) \n",
    " \n",
    "# output the frequencies of diabetes status by age \n",
    "freq_table <- prop.table(dm_by_age, margin = 1) \n",
    " \n",
    "# calculate the odds of having diabetes \n",
    "odds <- freq_table[, \"yes\"]/freq_table[, \"no\"] \n",
    " \n",
    "# calculate the log odds \n",
    "logodds <- log(odds) \n",
    " \n",
    "# plot the ages found in the sample against the log odds of having diabetes \n",
    "plot(rownames(freq_table), logodds) "
   ]
  },
  {
   "cell_type": "code",
   "execution_count": null,
   "metadata": {},
   "outputs": [],
   "source": [
    "hist(age)"
   ]
  },
  {
   "cell_type": "code",
   "execution_count": null,
   "metadata": {},
   "outputs": [],
   "source": [
    "d <- density(age) \n",
    "plot(d,main = \"\")"
   ]
  },
  {
   "cell_type": "code",
   "execution_count": null,
   "metadata": {},
   "outputs": [],
   "source": [
    "hist(g$hdl)"
   ]
  },
  {
   "cell_type": "code",
   "execution_count": null,
   "metadata": {},
   "outputs": [],
   "source": [
    "summary(chol)"
   ]
  },
  {
   "cell_type": "code",
   "execution_count": null,
   "metadata": {},
   "outputs": [],
   "source": [
    "hist(g$chol)"
   ]
  },
  {
   "cell_type": "code",
   "execution_count": null,
   "metadata": {},
   "outputs": [],
   "source": [
    "#bmi \n",
    "height <- g[,\"height\"] \n",
    "weight <- g[,\"weight\"] \n",
    "height.si <- height*0.0254 \n",
    "weight.si <- weight*0.453592 \n",
    "bmi <- weight.si/height.si^2 "
   ]
  },
  {
   "cell_type": "code",
   "execution_count": 7,
   "metadata": {},
   "outputs": [
    {
     "ename": "ERROR",
     "evalue": "Error in eval(predvars, data, env): object 'dm' not found\n",
     "output_type": "error",
     "traceback": [
      "Error in eval(predvars, data, env): object 'dm' not found\nTraceback:\n",
      "1. glm(dm ~ age + gender + bmi, family = binomial(link = logit))",
      "2. eval(mf, parent.frame())",
      "3. eval(mf, parent.frame())",
      "4. stats::model.frame(formula = dm ~ age + gender + bmi, drop.unused.levels = TRUE)",
      "5. model.frame.default(formula = dm ~ age + gender + bmi, drop.unused.levels = TRUE)",
      "6. eval(predvars, data, env)",
      "7. eval(predvars, data, env)"
     ]
    }
   ],
   "source": [
    "glm(dm ~ age + gender + bmi, family=binomial (link=logit))\n"
   ]
  },
  {
   "cell_type": "code",
   "execution_count": 11,
   "metadata": {},
   "outputs": [],
   "source": [
    "chol <- g['chol']\n",
    "age <- g['age']\n",
    "insurance <- as.factor(g[,'insurance']) \n",
    "dm <- as.factor(g[,'dm']) "
   ]
  },
  {
   "cell_type": "code",
   "execution_count": 12,
   "metadata": {},
   "outputs": [
    {
     "name": "stdout",
     "output_type": "stream",
     "text": [
      "'data.frame':\t403 obs. of  23 variables:\n",
      " $ id       : int  1000 1001 1002 1003 1005 1008 1011 1015 1016 1022 ...\n",
      " $ chol     : int  203 165 228 78 249 248 195 227 177 263 ...\n",
      " $ stab.glu : int  82 97 92 93 90 94 92 75 87 89 ...\n",
      " $ hdl      : int  56 24 37 12 28 69 41 44 49 40 ...\n",
      " $ ratio    : num  3.6 6.9 6.2 6.5 8.9 ...\n",
      " $ glyhb    : num  4.31 4.44 4.64 4.63 7.72 ...\n",
      " $ location : Factor w/ 2 levels \"Buckingham\",\"Louisa\": 1 1 1 1 1 1 1 1 1 1 ...\n",
      " $ age      : int  46 29 58 67 64 34 30 37 45 55 ...\n",
      " $ gender   : Factor w/ 2 levels \"female\",\"male\": 1 1 1 2 2 2 2 2 2 1 ...\n",
      " $ height   : int  62 64 61 67 68 71 69 59 69 63 ...\n",
      " $ weight   : int  121 218 256 119 183 190 191 170 166 202 ...\n",
      " $ frame    : Factor w/ 4 levels \"\",\"large\",\"medium\",..: 3 2 2 2 3 2 3 3 2 4 ...\n",
      " $ bp.1s    : int  118 112 190 110 138 132 161 NA 160 108 ...\n",
      " $ bp.1d    : int  59 68 92 50 80 86 112 NA 80 72 ...\n",
      " $ bp.2s    : int  NA NA 185 NA NA NA 161 NA 128 NA ...\n",
      " $ bp.2d    : int  NA NA 92 NA NA NA 112 NA 86 NA ...\n",
      " $ waist    : int  29 46 49 33 44 36 46 34 34 45 ...\n",
      " $ hip      : int  38 48 57 38 41 42 49 39 40 50 ...\n",
      " $ time.ppn : int  720 360 180 480 300 195 720 1020 300 240 ...\n",
      " $ insurance: int  1 0 2 1 0 1 2 0 2 2 ...\n",
      " $ fh       : int  0 0 0 0 0 0 1 0 1 0 ...\n",
      " $ smoking  : int  3 2 2 3 3 1 2 2 1 2 ...\n",
      " $ dm       : Factor w/ 2 levels \"no\",\"yes\": 1 1 1 1 2 1 1 1 1 1 ...\n"
     ]
    }
   ],
   "source": [
    "str(g)"
   ]
  },
  {
   "cell_type": "code",
   "execution_count": 15,
   "metadata": {},
   "outputs": [
    {
     "data": {
      "text/plain": [
       "\n",
       "Call:\n",
       "glm(formula = dm ~ insurance, family = binomial(link = logit))\n",
       "\n",
       "Deviance Residuals: \n",
       "    Min       1Q   Median       3Q      Max  \n",
       "-0.6548  -0.5615  -0.5615  -0.5251   2.0246  \n",
       "\n",
       "Coefficients:\n",
       "            Estimate Std. Error z value Pr(>|z|)    \n",
       "(Intercept)  -1.4307     0.2373  -6.029 1.65e-09 ***\n",
       "insurance1   -0.3369     0.3348  -1.006    0.314    \n",
       "insurance2   -0.4810     0.3519  -1.367    0.172    \n",
       "---\n",
       "Signif. codes:  0 '***' 0.001 '**' 0.01 '*' 0.05 '.' 0.1 ' ' 1\n",
       "\n",
       "(Dispersion parameter for binomial family taken to be 1)\n",
       "\n",
       "    Null deviance: 334.87  on 389  degrees of freedom\n",
       "Residual deviance: 332.87  on 387  degrees of freedom\n",
       "  (13 observations deleted due to missingness)\n",
       "AIC: 338.87\n",
       "\n",
       "Number of Fisher Scoring iterations: 4\n"
      ]
     },
     "metadata": {},
     "output_type": "display_data"
    }
   ],
   "source": [
    "n <- glm(dm ~ insurance, family=binomial (link=logit))\n",
    "summary(n)"
   ]
  },
  {
   "cell_type": "code",
   "execution_count": 16,
   "metadata": {},
   "outputs": [
    {
     "data": {
      "text/html": [
       "0.713980234356374"
      ],
      "text/latex": [
       "0.713980234356374"
      ],
      "text/markdown": [
       "0.713980234356374"
      ],
      "text/plain": [
       "[1] 0.7139802"
      ]
     },
     "metadata": {},
     "output_type": "display_data"
    }
   ],
   "source": [
    "exp(-0.3369)"
   ]
  },
  {
   "cell_type": "code",
   "execution_count": 17,
   "metadata": {},
   "outputs": [
    {
     "data": {
      "text/html": [
       "0.618164917702926"
      ],
      "text/latex": [
       "0.618164917702926"
      ],
      "text/markdown": [
       "0.618164917702926"
      ],
      "text/plain": [
       "[1] 0.6181649"
      ]
     },
     "metadata": {},
     "output_type": "display_data"
    }
   ],
   "source": [
    "exp(-0.4810)"
   ]
  },
  {
   "cell_type": "code",
   "execution_count": null,
   "metadata": {},
   "outputs": [],
   "source": []
  }
 ],
 "metadata": {
  "kernelspec": {
   "display_name": "R",
   "language": "R",
   "name": "ir"
  },
  "language_info": {
   "codemirror_mode": "r",
   "file_extension": ".r",
   "mimetype": "text/x-r-source",
   "name": "R",
   "pygments_lexer": "r",
   "version": "3.6.1"
  }
 },
 "nbformat": 4,
 "nbformat_minor": 4
}
