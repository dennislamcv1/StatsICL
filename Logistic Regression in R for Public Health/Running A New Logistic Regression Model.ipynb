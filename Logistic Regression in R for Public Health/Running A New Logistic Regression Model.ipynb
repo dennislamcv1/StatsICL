{
 "cells": [
  {
   "cell_type": "markdown",
   "metadata": {},
   "source": [
    "## Running A New Logistic Regression Model"
   ]
  },
  {
   "cell_type": "markdown",
   "metadata": {},
   "source": [
    "### Import Libraries"
   ]
  },
  {
   "cell_type": "code",
   "execution_count": 1,
   "metadata": {},
   "outputs": [
    {
     "data": {
      "application/javascript": [
       "IPython.notebook.set_autosave_interval(60000)"
      ]
     },
     "metadata": {},
     "output_type": "display_data"
    },
    {
     "name": "stdout",
     "output_type": "stream",
     "text": [
      "Autosaving every 60 seconds\n"
     ]
    }
   ],
   "source": [
    "import numpy as np\n",
    "import pandas as pd\n",
    "import matplotlib.pyplot as plt\n",
    "import seaborn as sns\n",
    "import random\n",
    "\n",
    "import sklearn\n",
    "\n",
    "import statsmodels.api as sm\n",
    "import statsmodels.formula.api as smf\n",
    "from statsmodels.formula.api import logit\n",
    "import scipy.stats as stats\n",
    "\n",
    "%matplotlib inline\n",
    "#sets the default autosave frequency in seconds\n",
    "%autosave 60 \n",
    "sns.set_style('dark')\n",
    "sns.set(font_scale=1.2)\n",
    "\n",
    "plt.rc('axes', labelsize=14)\n",
    "plt.rc('xtick', labelsize=12)\n",
    "plt.rc('ytick', labelsize=12)\n",
    "\n",
    "from sklearn.inspection import permutation_importance\n",
    "from sklearn.model_selection import cross_val_score, train_test_split, GridSearchCV, RandomizedSearchCV\n",
    "from sklearn.preprocessing import LabelEncoder, StandardScaler, MinMaxScaler, OneHotEncoder\n",
    "from sklearn.pipeline import Pipeline\n",
    "from sklearn.tree import export_graphviz, plot_tree\n",
    "from sklearn.metrics import confusion_matrix, classification_report, mean_absolute_error, mean_squared_error,r2_score\n",
    "from sklearn.metrics import plot_confusion_matrix, plot_precision_recall_curve, plot_roc_curve, accuracy_score\n",
    "from sklearn.metrics import auc, f1_score, precision_score, recall_score, roc_auc_score\n",
    "\n",
    "\n",
    "\n",
    "import warnings\n",
    "warnings.filterwarnings('ignore')\n",
    "\n",
    "\n",
    "pd.set_option('display.max_columns',None)\n",
    "#pd.set_option('display.max_rows',100)\n",
    "pd.set_option('display.width', 1000)\n",
    "pd.set_option('display.float_format','{:.4f}'.format)\n",
    "\n",
    "\n",
    "random.seed(0)\n",
    "np.random.seed(0)\n",
    "np.set_printoptions(suppress=True)"
   ]
  },
  {
   "cell_type": "markdown",
   "metadata": {},
   "source": [
    "## Exploratory Data Analysis"
   ]
  },
  {
   "cell_type": "code",
   "execution_count": 2,
   "metadata": {},
   "outputs": [],
   "source": [
    "df = pd.read_csv(\"diabetes.csv\")"
   ]
  },
  {
   "cell_type": "code",
   "execution_count": 3,
   "metadata": {},
   "outputs": [
    {
     "data": {
      "text/html": [
       "<div>\n",
       "<style scoped>\n",
       "    .dataframe tbody tr th:only-of-type {\n",
       "        vertical-align: middle;\n",
       "    }\n",
       "\n",
       "    .dataframe tbody tr th {\n",
       "        vertical-align: top;\n",
       "    }\n",
       "\n",
       "    .dataframe thead th {\n",
       "        text-align: right;\n",
       "    }\n",
       "</style>\n",
       "<table border=\"1\" class=\"dataframe\">\n",
       "  <thead>\n",
       "    <tr style=\"text-align: right;\">\n",
       "      <th></th>\n",
       "      <th>id</th>\n",
       "      <th>chol</th>\n",
       "      <th>stab.glu</th>\n",
       "      <th>hdl</th>\n",
       "      <th>ratio</th>\n",
       "      <th>glyhb</th>\n",
       "      <th>location</th>\n",
       "      <th>age</th>\n",
       "      <th>gender</th>\n",
       "      <th>height</th>\n",
       "      <th>weight</th>\n",
       "      <th>frame</th>\n",
       "      <th>bp.1s</th>\n",
       "      <th>bp.1d</th>\n",
       "      <th>bp.2s</th>\n",
       "      <th>bp.2d</th>\n",
       "      <th>waist</th>\n",
       "      <th>hip</th>\n",
       "      <th>time.ppn</th>\n",
       "      <th>insurance</th>\n",
       "      <th>fh</th>\n",
       "      <th>smoking</th>\n",
       "      <th>dm</th>\n",
       "    </tr>\n",
       "  </thead>\n",
       "  <tbody>\n",
       "    <tr>\n",
       "      <th>0</th>\n",
       "      <td>1000</td>\n",
       "      <td>203.0000</td>\n",
       "      <td>82</td>\n",
       "      <td>56.0000</td>\n",
       "      <td>3.6000</td>\n",
       "      <td>4.3100</td>\n",
       "      <td>Buckingham</td>\n",
       "      <td>46</td>\n",
       "      <td>female</td>\n",
       "      <td>62.0000</td>\n",
       "      <td>121.0000</td>\n",
       "      <td>medium</td>\n",
       "      <td>118.0000</td>\n",
       "      <td>59.0000</td>\n",
       "      <td>nan</td>\n",
       "      <td>nan</td>\n",
       "      <td>29.0000</td>\n",
       "      <td>38.0000</td>\n",
       "      <td>720.0000</td>\n",
       "      <td>1</td>\n",
       "      <td>0</td>\n",
       "      <td>3</td>\n",
       "      <td>no</td>\n",
       "    </tr>\n",
       "    <tr>\n",
       "      <th>1</th>\n",
       "      <td>1001</td>\n",
       "      <td>165.0000</td>\n",
       "      <td>97</td>\n",
       "      <td>24.0000</td>\n",
       "      <td>6.9000</td>\n",
       "      <td>4.4400</td>\n",
       "      <td>Buckingham</td>\n",
       "      <td>29</td>\n",
       "      <td>female</td>\n",
       "      <td>64.0000</td>\n",
       "      <td>218.0000</td>\n",
       "      <td>large</td>\n",
       "      <td>112.0000</td>\n",
       "      <td>68.0000</td>\n",
       "      <td>nan</td>\n",
       "      <td>nan</td>\n",
       "      <td>46.0000</td>\n",
       "      <td>48.0000</td>\n",
       "      <td>360.0000</td>\n",
       "      <td>0</td>\n",
       "      <td>0</td>\n",
       "      <td>2</td>\n",
       "      <td>no</td>\n",
       "    </tr>\n",
       "    <tr>\n",
       "      <th>2</th>\n",
       "      <td>1002</td>\n",
       "      <td>228.0000</td>\n",
       "      <td>92</td>\n",
       "      <td>37.0000</td>\n",
       "      <td>6.2000</td>\n",
       "      <td>4.6400</td>\n",
       "      <td>Buckingham</td>\n",
       "      <td>58</td>\n",
       "      <td>female</td>\n",
       "      <td>61.0000</td>\n",
       "      <td>256.0000</td>\n",
       "      <td>large</td>\n",
       "      <td>190.0000</td>\n",
       "      <td>92.0000</td>\n",
       "      <td>185.0000</td>\n",
       "      <td>92.0000</td>\n",
       "      <td>49.0000</td>\n",
       "      <td>57.0000</td>\n",
       "      <td>180.0000</td>\n",
       "      <td>2</td>\n",
       "      <td>0</td>\n",
       "      <td>2</td>\n",
       "      <td>no</td>\n",
       "    </tr>\n",
       "    <tr>\n",
       "      <th>3</th>\n",
       "      <td>1003</td>\n",
       "      <td>78.0000</td>\n",
       "      <td>93</td>\n",
       "      <td>12.0000</td>\n",
       "      <td>6.5000</td>\n",
       "      <td>4.6300</td>\n",
       "      <td>Buckingham</td>\n",
       "      <td>67</td>\n",
       "      <td>male</td>\n",
       "      <td>67.0000</td>\n",
       "      <td>119.0000</td>\n",
       "      <td>large</td>\n",
       "      <td>110.0000</td>\n",
       "      <td>50.0000</td>\n",
       "      <td>nan</td>\n",
       "      <td>nan</td>\n",
       "      <td>33.0000</td>\n",
       "      <td>38.0000</td>\n",
       "      <td>480.0000</td>\n",
       "      <td>1</td>\n",
       "      <td>0</td>\n",
       "      <td>3</td>\n",
       "      <td>no</td>\n",
       "    </tr>\n",
       "    <tr>\n",
       "      <th>4</th>\n",
       "      <td>1005</td>\n",
       "      <td>249.0000</td>\n",
       "      <td>90</td>\n",
       "      <td>28.0000</td>\n",
       "      <td>8.9000</td>\n",
       "      <td>7.7200</td>\n",
       "      <td>Buckingham</td>\n",
       "      <td>64</td>\n",
       "      <td>male</td>\n",
       "      <td>68.0000</td>\n",
       "      <td>183.0000</td>\n",
       "      <td>medium</td>\n",
       "      <td>138.0000</td>\n",
       "      <td>80.0000</td>\n",
       "      <td>nan</td>\n",
       "      <td>nan</td>\n",
       "      <td>44.0000</td>\n",
       "      <td>41.0000</td>\n",
       "      <td>300.0000</td>\n",
       "      <td>0</td>\n",
       "      <td>0</td>\n",
       "      <td>3</td>\n",
       "      <td>yes</td>\n",
       "    </tr>\n",
       "    <tr>\n",
       "      <th>...</th>\n",
       "      <td>...</td>\n",
       "      <td>...</td>\n",
       "      <td>...</td>\n",
       "      <td>...</td>\n",
       "      <td>...</td>\n",
       "      <td>...</td>\n",
       "      <td>...</td>\n",
       "      <td>...</td>\n",
       "      <td>...</td>\n",
       "      <td>...</td>\n",
       "      <td>...</td>\n",
       "      <td>...</td>\n",
       "      <td>...</td>\n",
       "      <td>...</td>\n",
       "      <td>...</td>\n",
       "      <td>...</td>\n",
       "      <td>...</td>\n",
       "      <td>...</td>\n",
       "      <td>...</td>\n",
       "      <td>...</td>\n",
       "      <td>...</td>\n",
       "      <td>...</td>\n",
       "      <td>...</td>\n",
       "    </tr>\n",
       "    <tr>\n",
       "      <th>398</th>\n",
       "      <td>41506</td>\n",
       "      <td>296.0000</td>\n",
       "      <td>369</td>\n",
       "      <td>46.0000</td>\n",
       "      <td>6.4000</td>\n",
       "      <td>16.1100</td>\n",
       "      <td>Louisa</td>\n",
       "      <td>53</td>\n",
       "      <td>male</td>\n",
       "      <td>69.0000</td>\n",
       "      <td>173.0000</td>\n",
       "      <td>medium</td>\n",
       "      <td>138.0000</td>\n",
       "      <td>94.0000</td>\n",
       "      <td>130.0000</td>\n",
       "      <td>94.0000</td>\n",
       "      <td>35.0000</td>\n",
       "      <td>39.0000</td>\n",
       "      <td>210.0000</td>\n",
       "      <td>2</td>\n",
       "      <td>0</td>\n",
       "      <td>1</td>\n",
       "      <td>yes</td>\n",
       "    </tr>\n",
       "    <tr>\n",
       "      <th>399</th>\n",
       "      <td>41507</td>\n",
       "      <td>284.0000</td>\n",
       "      <td>89</td>\n",
       "      <td>54.0000</td>\n",
       "      <td>5.3000</td>\n",
       "      <td>4.3900</td>\n",
       "      <td>Louisa</td>\n",
       "      <td>51</td>\n",
       "      <td>female</td>\n",
       "      <td>63.0000</td>\n",
       "      <td>154.0000</td>\n",
       "      <td>medium</td>\n",
       "      <td>140.0000</td>\n",
       "      <td>100.0000</td>\n",
       "      <td>146.0000</td>\n",
       "      <td>102.0000</td>\n",
       "      <td>32.0000</td>\n",
       "      <td>43.0000</td>\n",
       "      <td>180.0000</td>\n",
       "      <td>2</td>\n",
       "      <td>0</td>\n",
       "      <td>3</td>\n",
       "      <td>no</td>\n",
       "    </tr>\n",
       "    <tr>\n",
       "      <th>400</th>\n",
       "      <td>41510</td>\n",
       "      <td>194.0000</td>\n",
       "      <td>269</td>\n",
       "      <td>38.0000</td>\n",
       "      <td>5.1000</td>\n",
       "      <td>13.6300</td>\n",
       "      <td>Louisa</td>\n",
       "      <td>29</td>\n",
       "      <td>female</td>\n",
       "      <td>69.0000</td>\n",
       "      <td>167.0000</td>\n",
       "      <td>small</td>\n",
       "      <td>120.0000</td>\n",
       "      <td>70.0000</td>\n",
       "      <td>nan</td>\n",
       "      <td>nan</td>\n",
       "      <td>33.0000</td>\n",
       "      <td>40.0000</td>\n",
       "      <td>20.0000</td>\n",
       "      <td>0</td>\n",
       "      <td>1</td>\n",
       "      <td>2</td>\n",
       "      <td>yes</td>\n",
       "    </tr>\n",
       "    <tr>\n",
       "      <th>401</th>\n",
       "      <td>41752</td>\n",
       "      <td>199.0000</td>\n",
       "      <td>76</td>\n",
       "      <td>52.0000</td>\n",
       "      <td>3.8000</td>\n",
       "      <td>4.4900</td>\n",
       "      <td>Louisa</td>\n",
       "      <td>41</td>\n",
       "      <td>female</td>\n",
       "      <td>63.0000</td>\n",
       "      <td>197.0000</td>\n",
       "      <td>medium</td>\n",
       "      <td>120.0000</td>\n",
       "      <td>78.0000</td>\n",
       "      <td>nan</td>\n",
       "      <td>nan</td>\n",
       "      <td>41.0000</td>\n",
       "      <td>48.0000</td>\n",
       "      <td>255.0000</td>\n",
       "      <td>2</td>\n",
       "      <td>0</td>\n",
       "      <td>2</td>\n",
       "      <td>no</td>\n",
       "    </tr>\n",
       "    <tr>\n",
       "      <th>402</th>\n",
       "      <td>41756</td>\n",
       "      <td>159.0000</td>\n",
       "      <td>88</td>\n",
       "      <td>79.0000</td>\n",
       "      <td>2.0000</td>\n",
       "      <td>nan</td>\n",
       "      <td>Louisa</td>\n",
       "      <td>68</td>\n",
       "      <td>female</td>\n",
       "      <td>64.0000</td>\n",
       "      <td>220.0000</td>\n",
       "      <td>medium</td>\n",
       "      <td>100.0000</td>\n",
       "      <td>72.0000</td>\n",
       "      <td>nan</td>\n",
       "      <td>nan</td>\n",
       "      <td>49.0000</td>\n",
       "      <td>58.0000</td>\n",
       "      <td>900.0000</td>\n",
       "      <td>0</td>\n",
       "      <td>0</td>\n",
       "      <td>1</td>\n",
       "      <td>NaN</td>\n",
       "    </tr>\n",
       "  </tbody>\n",
       "</table>\n",
       "<p>403 rows × 23 columns</p>\n",
       "</div>"
      ],
      "text/plain": [
       "        id     chol  stab.glu     hdl  ratio   glyhb    location  age  gender  height   weight   frame    bp.1s    bp.1d    bp.2s    bp.2d   waist     hip  time.ppn  insurance  fh  smoking   dm\n",
       "0     1000 203.0000        82 56.0000 3.6000  4.3100  Buckingham   46  female 62.0000 121.0000  medium 118.0000  59.0000      nan      nan 29.0000 38.0000  720.0000          1   0        3   no\n",
       "1     1001 165.0000        97 24.0000 6.9000  4.4400  Buckingham   29  female 64.0000 218.0000   large 112.0000  68.0000      nan      nan 46.0000 48.0000  360.0000          0   0        2   no\n",
       "2     1002 228.0000        92 37.0000 6.2000  4.6400  Buckingham   58  female 61.0000 256.0000   large 190.0000  92.0000 185.0000  92.0000 49.0000 57.0000  180.0000          2   0        2   no\n",
       "3     1003  78.0000        93 12.0000 6.5000  4.6300  Buckingham   67    male 67.0000 119.0000   large 110.0000  50.0000      nan      nan 33.0000 38.0000  480.0000          1   0        3   no\n",
       "4     1005 249.0000        90 28.0000 8.9000  7.7200  Buckingham   64    male 68.0000 183.0000  medium 138.0000  80.0000      nan      nan 44.0000 41.0000  300.0000          0   0        3  yes\n",
       "..     ...      ...       ...     ...    ...     ...         ...  ...     ...     ...      ...     ...      ...      ...      ...      ...     ...     ...       ...        ...  ..      ...  ...\n",
       "398  41506 296.0000       369 46.0000 6.4000 16.1100      Louisa   53    male 69.0000 173.0000  medium 138.0000  94.0000 130.0000  94.0000 35.0000 39.0000  210.0000          2   0        1  yes\n",
       "399  41507 284.0000        89 54.0000 5.3000  4.3900      Louisa   51  female 63.0000 154.0000  medium 140.0000 100.0000 146.0000 102.0000 32.0000 43.0000  180.0000          2   0        3   no\n",
       "400  41510 194.0000       269 38.0000 5.1000 13.6300      Louisa   29  female 69.0000 167.0000   small 120.0000  70.0000      nan      nan 33.0000 40.0000   20.0000          0   1        2  yes\n",
       "401  41752 199.0000        76 52.0000 3.8000  4.4900      Louisa   41  female 63.0000 197.0000  medium 120.0000  78.0000      nan      nan 41.0000 48.0000  255.0000          2   0        2   no\n",
       "402  41756 159.0000        88 79.0000 2.0000     nan      Louisa   68  female 64.0000 220.0000  medium 100.0000  72.0000      nan      nan 49.0000 58.0000  900.0000          0   0        1  NaN\n",
       "\n",
       "[403 rows x 23 columns]"
      ]
     },
     "execution_count": 3,
     "metadata": {},
     "output_type": "execute_result"
    }
   ],
   "source": [
    "df"
   ]
  },
  {
   "cell_type": "code",
   "execution_count": 4,
   "metadata": {},
   "outputs": [
    {
     "name": "stdout",
     "output_type": "stream",
     "text": [
      "<class 'pandas.core.frame.DataFrame'>\n",
      "RangeIndex: 403 entries, 0 to 402\n",
      "Data columns (total 23 columns):\n",
      " #   Column     Non-Null Count  Dtype  \n",
      "---  ------     --------------  -----  \n",
      " 0   id         403 non-null    int64  \n",
      " 1   chol       402 non-null    float64\n",
      " 2   stab.glu   403 non-null    int64  \n",
      " 3   hdl        402 non-null    float64\n",
      " 4   ratio      402 non-null    float64\n",
      " 5   glyhb      390 non-null    float64\n",
      " 6   location   403 non-null    object \n",
      " 7   age        403 non-null    int64  \n",
      " 8   gender     403 non-null    object \n",
      " 9   height     398 non-null    float64\n",
      " 10  weight     402 non-null    float64\n",
      " 11  frame      391 non-null    object \n",
      " 12  bp.1s      398 non-null    float64\n",
      " 13  bp.1d      398 non-null    float64\n",
      " 14  bp.2s      141 non-null    float64\n",
      " 15  bp.2d      141 non-null    float64\n",
      " 16  waist      401 non-null    float64\n",
      " 17  hip        401 non-null    float64\n",
      " 18  time.ppn   400 non-null    float64\n",
      " 19  insurance  403 non-null    int64  \n",
      " 20  fh         403 non-null    int64  \n",
      " 21  smoking    403 non-null    int64  \n",
      " 22  dm         390 non-null    object \n",
      "dtypes: float64(13), int64(6), object(4)\n",
      "memory usage: 72.5+ KB\n"
     ]
    }
   ],
   "source": [
    "df.info()"
   ]
  },
  {
   "cell_type": "code",
   "execution_count": 5,
   "metadata": {},
   "outputs": [
    {
     "data": {
      "text/html": [
       "<div>\n",
       "<style scoped>\n",
       "    .dataframe tbody tr th:only-of-type {\n",
       "        vertical-align: middle;\n",
       "    }\n",
       "\n",
       "    .dataframe tbody tr th {\n",
       "        vertical-align: top;\n",
       "    }\n",
       "\n",
       "    .dataframe thead th {\n",
       "        text-align: right;\n",
       "    }\n",
       "</style>\n",
       "<table border=\"1\" class=\"dataframe\">\n",
       "  <thead>\n",
       "    <tr style=\"text-align: right;\">\n",
       "      <th></th>\n",
       "      <th>id</th>\n",
       "      <th>chol</th>\n",
       "      <th>stab.glu</th>\n",
       "      <th>hdl</th>\n",
       "      <th>ratio</th>\n",
       "      <th>glyhb</th>\n",
       "      <th>location</th>\n",
       "      <th>age</th>\n",
       "      <th>gender</th>\n",
       "      <th>height</th>\n",
       "      <th>weight</th>\n",
       "      <th>frame</th>\n",
       "      <th>bp.1s</th>\n",
       "      <th>bp.1d</th>\n",
       "      <th>bp.2s</th>\n",
       "      <th>bp.2d</th>\n",
       "      <th>waist</th>\n",
       "      <th>hip</th>\n",
       "      <th>time.ppn</th>\n",
       "      <th>insurance</th>\n",
       "      <th>fh</th>\n",
       "      <th>smoking</th>\n",
       "      <th>dm</th>\n",
       "    </tr>\n",
       "  </thead>\n",
       "  <tbody>\n",
       "    <tr>\n",
       "      <th>count</th>\n",
       "      <td>403.0000</td>\n",
       "      <td>402.0000</td>\n",
       "      <td>403.0000</td>\n",
       "      <td>402.0000</td>\n",
       "      <td>402.0000</td>\n",
       "      <td>390.0000</td>\n",
       "      <td>403</td>\n",
       "      <td>403.0000</td>\n",
       "      <td>403</td>\n",
       "      <td>398.0000</td>\n",
       "      <td>402.0000</td>\n",
       "      <td>391</td>\n",
       "      <td>398.0000</td>\n",
       "      <td>398.0000</td>\n",
       "      <td>141.0000</td>\n",
       "      <td>141.0000</td>\n",
       "      <td>401.0000</td>\n",
       "      <td>401.0000</td>\n",
       "      <td>400.0000</td>\n",
       "      <td>403.0000</td>\n",
       "      <td>403.0000</td>\n",
       "      <td>403.0000</td>\n",
       "      <td>390</td>\n",
       "    </tr>\n",
       "    <tr>\n",
       "      <th>unique</th>\n",
       "      <td>nan</td>\n",
       "      <td>nan</td>\n",
       "      <td>nan</td>\n",
       "      <td>nan</td>\n",
       "      <td>nan</td>\n",
       "      <td>nan</td>\n",
       "      <td>2</td>\n",
       "      <td>nan</td>\n",
       "      <td>2</td>\n",
       "      <td>nan</td>\n",
       "      <td>nan</td>\n",
       "      <td>3</td>\n",
       "      <td>nan</td>\n",
       "      <td>nan</td>\n",
       "      <td>nan</td>\n",
       "      <td>nan</td>\n",
       "      <td>nan</td>\n",
       "      <td>nan</td>\n",
       "      <td>nan</td>\n",
       "      <td>nan</td>\n",
       "      <td>nan</td>\n",
       "      <td>nan</td>\n",
       "      <td>2</td>\n",
       "    </tr>\n",
       "    <tr>\n",
       "      <th>top</th>\n",
       "      <td>nan</td>\n",
       "      <td>nan</td>\n",
       "      <td>nan</td>\n",
       "      <td>nan</td>\n",
       "      <td>nan</td>\n",
       "      <td>nan</td>\n",
       "      <td>Louisa</td>\n",
       "      <td>nan</td>\n",
       "      <td>female</td>\n",
       "      <td>nan</td>\n",
       "      <td>nan</td>\n",
       "      <td>medium</td>\n",
       "      <td>nan</td>\n",
       "      <td>nan</td>\n",
       "      <td>nan</td>\n",
       "      <td>nan</td>\n",
       "      <td>nan</td>\n",
       "      <td>nan</td>\n",
       "      <td>nan</td>\n",
       "      <td>nan</td>\n",
       "      <td>nan</td>\n",
       "      <td>nan</td>\n",
       "      <td>no</td>\n",
       "    </tr>\n",
       "    <tr>\n",
       "      <th>freq</th>\n",
       "      <td>nan</td>\n",
       "      <td>nan</td>\n",
       "      <td>nan</td>\n",
       "      <td>nan</td>\n",
       "      <td>nan</td>\n",
       "      <td>nan</td>\n",
       "      <td>203</td>\n",
       "      <td>nan</td>\n",
       "      <td>234</td>\n",
       "      <td>nan</td>\n",
       "      <td>nan</td>\n",
       "      <td>184</td>\n",
       "      <td>nan</td>\n",
       "      <td>nan</td>\n",
       "      <td>nan</td>\n",
       "      <td>nan</td>\n",
       "      <td>nan</td>\n",
       "      <td>nan</td>\n",
       "      <td>nan</td>\n",
       "      <td>nan</td>\n",
       "      <td>nan</td>\n",
       "      <td>nan</td>\n",
       "      <td>330</td>\n",
       "    </tr>\n",
       "    <tr>\n",
       "      <th>mean</th>\n",
       "      <td>15978.3102</td>\n",
       "      <td>207.8458</td>\n",
       "      <td>106.6725</td>\n",
       "      <td>50.4453</td>\n",
       "      <td>4.5216</td>\n",
       "      <td>5.5898</td>\n",
       "      <td>NaN</td>\n",
       "      <td>46.8511</td>\n",
       "      <td>NaN</td>\n",
       "      <td>66.0201</td>\n",
       "      <td>177.5920</td>\n",
       "      <td>NaN</td>\n",
       "      <td>136.9045</td>\n",
       "      <td>83.3216</td>\n",
       "      <td>152.3830</td>\n",
       "      <td>92.5248</td>\n",
       "      <td>37.9002</td>\n",
       "      <td>43.0399</td>\n",
       "      <td>341.2500</td>\n",
       "      <td>1.0546</td>\n",
       "      <td>0.1886</td>\n",
       "      <td>1.8462</td>\n",
       "      <td>NaN</td>\n",
       "    </tr>\n",
       "    <tr>\n",
       "      <th>std</th>\n",
       "      <td>11881.1221</td>\n",
       "      <td>44.4456</td>\n",
       "      <td>53.0767</td>\n",
       "      <td>17.2626</td>\n",
       "      <td>1.7279</td>\n",
       "      <td>2.2426</td>\n",
       "      <td>NaN</td>\n",
       "      <td>16.3123</td>\n",
       "      <td>NaN</td>\n",
       "      <td>3.9185</td>\n",
       "      <td>40.3407</td>\n",
       "      <td>NaN</td>\n",
       "      <td>22.7410</td>\n",
       "      <td>13.5892</td>\n",
       "      <td>21.7130</td>\n",
       "      <td>11.5552</td>\n",
       "      <td>5.7293</td>\n",
       "      <td>5.6567</td>\n",
       "      <td>309.5410</td>\n",
       "      <td>0.7961</td>\n",
       "      <td>0.3917</td>\n",
       "      <td>0.6512</td>\n",
       "      <td>NaN</td>\n",
       "    </tr>\n",
       "    <tr>\n",
       "      <th>min</th>\n",
       "      <td>1000.0000</td>\n",
       "      <td>78.0000</td>\n",
       "      <td>48.0000</td>\n",
       "      <td>12.0000</td>\n",
       "      <td>1.5000</td>\n",
       "      <td>2.6800</td>\n",
       "      <td>NaN</td>\n",
       "      <td>19.0000</td>\n",
       "      <td>NaN</td>\n",
       "      <td>52.0000</td>\n",
       "      <td>99.0000</td>\n",
       "      <td>NaN</td>\n",
       "      <td>90.0000</td>\n",
       "      <td>48.0000</td>\n",
       "      <td>110.0000</td>\n",
       "      <td>60.0000</td>\n",
       "      <td>26.0000</td>\n",
       "      <td>30.0000</td>\n",
       "      <td>5.0000</td>\n",
       "      <td>0.0000</td>\n",
       "      <td>0.0000</td>\n",
       "      <td>1.0000</td>\n",
       "      <td>NaN</td>\n",
       "    </tr>\n",
       "    <tr>\n",
       "      <th>25%</th>\n",
       "      <td>4792.5000</td>\n",
       "      <td>179.0000</td>\n",
       "      <td>81.0000</td>\n",
       "      <td>38.0000</td>\n",
       "      <td>3.2000</td>\n",
       "      <td>4.3800</td>\n",
       "      <td>NaN</td>\n",
       "      <td>34.0000</td>\n",
       "      <td>NaN</td>\n",
       "      <td>63.0000</td>\n",
       "      <td>151.0000</td>\n",
       "      <td>NaN</td>\n",
       "      <td>121.2500</td>\n",
       "      <td>75.0000</td>\n",
       "      <td>138.0000</td>\n",
       "      <td>84.0000</td>\n",
       "      <td>33.0000</td>\n",
       "      <td>39.0000</td>\n",
       "      <td>90.0000</td>\n",
       "      <td>0.0000</td>\n",
       "      <td>0.0000</td>\n",
       "      <td>1.0000</td>\n",
       "      <td>NaN</td>\n",
       "    </tr>\n",
       "    <tr>\n",
       "      <th>50%</th>\n",
       "      <td>15766.0000</td>\n",
       "      <td>204.0000</td>\n",
       "      <td>89.0000</td>\n",
       "      <td>46.0000</td>\n",
       "      <td>4.2000</td>\n",
       "      <td>4.8400</td>\n",
       "      <td>NaN</td>\n",
       "      <td>45.0000</td>\n",
       "      <td>NaN</td>\n",
       "      <td>66.0000</td>\n",
       "      <td>172.5000</td>\n",
       "      <td>NaN</td>\n",
       "      <td>136.0000</td>\n",
       "      <td>82.0000</td>\n",
       "      <td>149.0000</td>\n",
       "      <td>92.0000</td>\n",
       "      <td>37.0000</td>\n",
       "      <td>42.0000</td>\n",
       "      <td>240.0000</td>\n",
       "      <td>1.0000</td>\n",
       "      <td>0.0000</td>\n",
       "      <td>2.0000</td>\n",
       "      <td>NaN</td>\n",
       "    </tr>\n",
       "    <tr>\n",
       "      <th>75%</th>\n",
       "      <td>20336.0000</td>\n",
       "      <td>230.0000</td>\n",
       "      <td>106.0000</td>\n",
       "      <td>59.0000</td>\n",
       "      <td>5.4000</td>\n",
       "      <td>5.6000</td>\n",
       "      <td>NaN</td>\n",
       "      <td>60.0000</td>\n",
       "      <td>NaN</td>\n",
       "      <td>69.0000</td>\n",
       "      <td>200.0000</td>\n",
       "      <td>NaN</td>\n",
       "      <td>146.7500</td>\n",
       "      <td>90.0000</td>\n",
       "      <td>161.0000</td>\n",
       "      <td>100.0000</td>\n",
       "      <td>41.0000</td>\n",
       "      <td>46.0000</td>\n",
       "      <td>517.5000</td>\n",
       "      <td>2.0000</td>\n",
       "      <td>0.0000</td>\n",
       "      <td>2.0000</td>\n",
       "      <td>NaN</td>\n",
       "    </tr>\n",
       "    <tr>\n",
       "      <th>max</th>\n",
       "      <td>41756.0000</td>\n",
       "      <td>443.0000</td>\n",
       "      <td>385.0000</td>\n",
       "      <td>120.0000</td>\n",
       "      <td>19.3000</td>\n",
       "      <td>16.1100</td>\n",
       "      <td>NaN</td>\n",
       "      <td>92.0000</td>\n",
       "      <td>NaN</td>\n",
       "      <td>76.0000</td>\n",
       "      <td>325.0000</td>\n",
       "      <td>NaN</td>\n",
       "      <td>250.0000</td>\n",
       "      <td>124.0000</td>\n",
       "      <td>238.0000</td>\n",
       "      <td>124.0000</td>\n",
       "      <td>56.0000</td>\n",
       "      <td>64.0000</td>\n",
       "      <td>1560.0000</td>\n",
       "      <td>2.0000</td>\n",
       "      <td>1.0000</td>\n",
       "      <td>3.0000</td>\n",
       "      <td>NaN</td>\n",
       "    </tr>\n",
       "  </tbody>\n",
       "</table>\n",
       "</div>"
      ],
      "text/plain": [
       "               id     chol  stab.glu      hdl    ratio    glyhb location      age  gender   height   weight   frame    bp.1s    bp.1d    bp.2s    bp.2d    waist      hip  time.ppn  insurance       fh  smoking   dm\n",
       "count    403.0000 402.0000  403.0000 402.0000 402.0000 390.0000      403 403.0000     403 398.0000 402.0000     391 398.0000 398.0000 141.0000 141.0000 401.0000 401.0000  400.0000   403.0000 403.0000 403.0000  390\n",
       "unique        nan      nan       nan      nan      nan      nan        2      nan       2      nan      nan       3      nan      nan      nan      nan      nan      nan       nan        nan      nan      nan    2\n",
       "top           nan      nan       nan      nan      nan      nan   Louisa      nan  female      nan      nan  medium      nan      nan      nan      nan      nan      nan       nan        nan      nan      nan   no\n",
       "freq          nan      nan       nan      nan      nan      nan      203      nan     234      nan      nan     184      nan      nan      nan      nan      nan      nan       nan        nan      nan      nan  330\n",
       "mean   15978.3102 207.8458  106.6725  50.4453   4.5216   5.5898      NaN  46.8511     NaN  66.0201 177.5920     NaN 136.9045  83.3216 152.3830  92.5248  37.9002  43.0399  341.2500     1.0546   0.1886   1.8462  NaN\n",
       "std    11881.1221  44.4456   53.0767  17.2626   1.7279   2.2426      NaN  16.3123     NaN   3.9185  40.3407     NaN  22.7410  13.5892  21.7130  11.5552   5.7293   5.6567  309.5410     0.7961   0.3917   0.6512  NaN\n",
       "min     1000.0000  78.0000   48.0000  12.0000   1.5000   2.6800      NaN  19.0000     NaN  52.0000  99.0000     NaN  90.0000  48.0000 110.0000  60.0000  26.0000  30.0000    5.0000     0.0000   0.0000   1.0000  NaN\n",
       "25%     4792.5000 179.0000   81.0000  38.0000   3.2000   4.3800      NaN  34.0000     NaN  63.0000 151.0000     NaN 121.2500  75.0000 138.0000  84.0000  33.0000  39.0000   90.0000     0.0000   0.0000   1.0000  NaN\n",
       "50%    15766.0000 204.0000   89.0000  46.0000   4.2000   4.8400      NaN  45.0000     NaN  66.0000 172.5000     NaN 136.0000  82.0000 149.0000  92.0000  37.0000  42.0000  240.0000     1.0000   0.0000   2.0000  NaN\n",
       "75%    20336.0000 230.0000  106.0000  59.0000   5.4000   5.6000      NaN  60.0000     NaN  69.0000 200.0000     NaN 146.7500  90.0000 161.0000 100.0000  41.0000  46.0000  517.5000     2.0000   0.0000   2.0000  NaN\n",
       "max    41756.0000 443.0000  385.0000 120.0000  19.3000  16.1100      NaN  92.0000     NaN  76.0000 325.0000     NaN 250.0000 124.0000 238.0000 124.0000  56.0000  64.0000 1560.0000     2.0000   1.0000   3.0000  NaN"
      ]
     },
     "execution_count": 5,
     "metadata": {},
     "output_type": "execute_result"
    }
   ],
   "source": [
    "df.describe(include='all')"
   ]
  },
  {
   "cell_type": "code",
   "execution_count": 6,
   "metadata": {},
   "outputs": [
    {
     "data": {
      "text/plain": [
       "(403, 23)"
      ]
     },
     "execution_count": 6,
     "metadata": {},
     "output_type": "execute_result"
    }
   ],
   "source": [
    "df.shape"
   ]
  },
  {
   "cell_type": "code",
   "execution_count": 7,
   "metadata": {},
   "outputs": [
    {
     "data": {
      "text/plain": [
       "Index(['id', 'chol', 'stab.glu', 'hdl', 'ratio', 'glyhb', 'location', 'age', 'gender', 'height', 'weight', 'frame', 'bp.1s', 'bp.1d', 'bp.2s', 'bp.2d', 'waist', 'hip', 'time.ppn', 'insurance', 'fh', 'smoking', 'dm'], dtype='object')"
      ]
     },
     "execution_count": 7,
     "metadata": {},
     "output_type": "execute_result"
    }
   ],
   "source": [
    "df.columns"
   ]
  },
  {
   "cell_type": "markdown",
   "metadata": {},
   "source": [
    "### Drop unwanted features"
   ]
  },
  {
   "cell_type": "markdown",
   "metadata": {},
   "source": [
    "Using the same data set as before, now try another model with these predictor variables: age, cholesterol and insurance type. "
   ]
  },
  {
   "cell_type": "code",
   "execution_count": 8,
   "metadata": {},
   "outputs": [],
   "source": [
    "df2 = df[['age', 'chol', 'insurance','dm' ]]"
   ]
  },
  {
   "cell_type": "code",
   "execution_count": 9,
   "metadata": {},
   "outputs": [
    {
     "data": {
      "text/html": [
       "<div>\n",
       "<style scoped>\n",
       "    .dataframe tbody tr th:only-of-type {\n",
       "        vertical-align: middle;\n",
       "    }\n",
       "\n",
       "    .dataframe tbody tr th {\n",
       "        vertical-align: top;\n",
       "    }\n",
       "\n",
       "    .dataframe thead th {\n",
       "        text-align: right;\n",
       "    }\n",
       "</style>\n",
       "<table border=\"1\" class=\"dataframe\">\n",
       "  <thead>\n",
       "    <tr style=\"text-align: right;\">\n",
       "      <th></th>\n",
       "      <th>age</th>\n",
       "      <th>chol</th>\n",
       "      <th>insurance</th>\n",
       "      <th>dm</th>\n",
       "    </tr>\n",
       "  </thead>\n",
       "  <tbody>\n",
       "    <tr>\n",
       "      <th>0</th>\n",
       "      <td>46</td>\n",
       "      <td>203.0000</td>\n",
       "      <td>1</td>\n",
       "      <td>no</td>\n",
       "    </tr>\n",
       "    <tr>\n",
       "      <th>1</th>\n",
       "      <td>29</td>\n",
       "      <td>165.0000</td>\n",
       "      <td>0</td>\n",
       "      <td>no</td>\n",
       "    </tr>\n",
       "    <tr>\n",
       "      <th>2</th>\n",
       "      <td>58</td>\n",
       "      <td>228.0000</td>\n",
       "      <td>2</td>\n",
       "      <td>no</td>\n",
       "    </tr>\n",
       "    <tr>\n",
       "      <th>3</th>\n",
       "      <td>67</td>\n",
       "      <td>78.0000</td>\n",
       "      <td>1</td>\n",
       "      <td>no</td>\n",
       "    </tr>\n",
       "    <tr>\n",
       "      <th>4</th>\n",
       "      <td>64</td>\n",
       "      <td>249.0000</td>\n",
       "      <td>0</td>\n",
       "      <td>yes</td>\n",
       "    </tr>\n",
       "  </tbody>\n",
       "</table>\n",
       "</div>"
      ],
      "text/plain": [
       "   age     chol  insurance   dm\n",
       "0   46 203.0000          1   no\n",
       "1   29 165.0000          0   no\n",
       "2   58 228.0000          2   no\n",
       "3   67  78.0000          1   no\n",
       "4   64 249.0000          0  yes"
      ]
     },
     "execution_count": 9,
     "metadata": {},
     "output_type": "execute_result"
    }
   ],
   "source": [
    "df2.head()"
   ]
  },
  {
   "cell_type": "markdown",
   "metadata": {},
   "source": [
    "### Treat Missing Values"
   ]
  },
  {
   "cell_type": "code",
   "execution_count": 10,
   "metadata": {},
   "outputs": [
    {
     "data": {
      "text/plain": [
       "age           0\n",
       "chol          1\n",
       "insurance     0\n",
       "dm           13\n",
       "dtype: int64"
      ]
     },
     "execution_count": 10,
     "metadata": {},
     "output_type": "execute_result"
    }
   ],
   "source": [
    "df2.isnull().sum()"
   ]
  },
  {
   "cell_type": "code",
   "execution_count": 11,
   "metadata": {},
   "outputs": [],
   "source": [
    "df2.dropna(inplace=True)"
   ]
  },
  {
   "cell_type": "code",
   "execution_count": 12,
   "metadata": {},
   "outputs": [
    {
     "data": {
      "text/plain": [
       "age          0\n",
       "chol         0\n",
       "insurance    0\n",
       "dm           0\n",
       "dtype: int64"
      ]
     },
     "execution_count": 12,
     "metadata": {},
     "output_type": "execute_result"
    }
   ],
   "source": [
    "df2.isnull().sum()"
   ]
  },
  {
   "cell_type": "code",
   "execution_count": 13,
   "metadata": {},
   "outputs": [],
   "source": [
    "encoder = LabelEncoder()"
   ]
  },
  {
   "cell_type": "code",
   "execution_count": 14,
   "metadata": {},
   "outputs": [],
   "source": [
    "df2[\"dm\"] = encoder.fit_transform(df2[\"dm\"])"
   ]
  },
  {
   "cell_type": "code",
   "execution_count": 15,
   "metadata": {},
   "outputs": [],
   "source": [
    "df2[\"insurance\"] = encoder.fit_transform(df2[\"insurance\"].astype(\"str\"))"
   ]
  },
  {
   "cell_type": "code",
   "execution_count": 16,
   "metadata": {},
   "outputs": [
    {
     "data": {
      "text/html": [
       "<div>\n",
       "<style scoped>\n",
       "    .dataframe tbody tr th:only-of-type {\n",
       "        vertical-align: middle;\n",
       "    }\n",
       "\n",
       "    .dataframe tbody tr th {\n",
       "        vertical-align: top;\n",
       "    }\n",
       "\n",
       "    .dataframe thead th {\n",
       "        text-align: right;\n",
       "    }\n",
       "</style>\n",
       "<table border=\"1\" class=\"dataframe\">\n",
       "  <thead>\n",
       "    <tr style=\"text-align: right;\">\n",
       "      <th></th>\n",
       "      <th>age</th>\n",
       "      <th>chol</th>\n",
       "      <th>insurance</th>\n",
       "      <th>dm</th>\n",
       "    </tr>\n",
       "  </thead>\n",
       "  <tbody>\n",
       "    <tr>\n",
       "      <th>0</th>\n",
       "      <td>46</td>\n",
       "      <td>203.0000</td>\n",
       "      <td>1</td>\n",
       "      <td>0</td>\n",
       "    </tr>\n",
       "    <tr>\n",
       "      <th>1</th>\n",
       "      <td>29</td>\n",
       "      <td>165.0000</td>\n",
       "      <td>0</td>\n",
       "      <td>0</td>\n",
       "    </tr>\n",
       "    <tr>\n",
       "      <th>2</th>\n",
       "      <td>58</td>\n",
       "      <td>228.0000</td>\n",
       "      <td>2</td>\n",
       "      <td>0</td>\n",
       "    </tr>\n",
       "    <tr>\n",
       "      <th>3</th>\n",
       "      <td>67</td>\n",
       "      <td>78.0000</td>\n",
       "      <td>1</td>\n",
       "      <td>0</td>\n",
       "    </tr>\n",
       "    <tr>\n",
       "      <th>4</th>\n",
       "      <td>64</td>\n",
       "      <td>249.0000</td>\n",
       "      <td>0</td>\n",
       "      <td>1</td>\n",
       "    </tr>\n",
       "    <tr>\n",
       "      <th>...</th>\n",
       "      <td>...</td>\n",
       "      <td>...</td>\n",
       "      <td>...</td>\n",
       "      <td>...</td>\n",
       "    </tr>\n",
       "    <tr>\n",
       "      <th>397</th>\n",
       "      <td>89</td>\n",
       "      <td>301.0000</td>\n",
       "      <td>1</td>\n",
       "      <td>0</td>\n",
       "    </tr>\n",
       "    <tr>\n",
       "      <th>398</th>\n",
       "      <td>53</td>\n",
       "      <td>296.0000</td>\n",
       "      <td>2</td>\n",
       "      <td>1</td>\n",
       "    </tr>\n",
       "    <tr>\n",
       "      <th>399</th>\n",
       "      <td>51</td>\n",
       "      <td>284.0000</td>\n",
       "      <td>2</td>\n",
       "      <td>0</td>\n",
       "    </tr>\n",
       "    <tr>\n",
       "      <th>400</th>\n",
       "      <td>29</td>\n",
       "      <td>194.0000</td>\n",
       "      <td>0</td>\n",
       "      <td>1</td>\n",
       "    </tr>\n",
       "    <tr>\n",
       "      <th>401</th>\n",
       "      <td>41</td>\n",
       "      <td>199.0000</td>\n",
       "      <td>2</td>\n",
       "      <td>0</td>\n",
       "    </tr>\n",
       "  </tbody>\n",
       "</table>\n",
       "<p>389 rows × 4 columns</p>\n",
       "</div>"
      ],
      "text/plain": [
       "     age     chol  insurance  dm\n",
       "0     46 203.0000          1   0\n",
       "1     29 165.0000          0   0\n",
       "2     58 228.0000          2   0\n",
       "3     67  78.0000          1   0\n",
       "4     64 249.0000          0   1\n",
       "..   ...      ...        ...  ..\n",
       "397   89 301.0000          1   0\n",
       "398   53 296.0000          2   1\n",
       "399   51 284.0000          2   0\n",
       "400   29 194.0000          0   1\n",
       "401   41 199.0000          2   0\n",
       "\n",
       "[389 rows x 4 columns]"
      ]
     },
     "execution_count": 16,
     "metadata": {},
     "output_type": "execute_result"
    }
   ],
   "source": [
    "df2"
   ]
  },
  {
   "cell_type": "code",
   "execution_count": 17,
   "metadata": {},
   "outputs": [
    {
     "data": {
      "text/plain": [
       "1    144\n",
       "2    132\n",
       "0    113\n",
       "Name: insurance, dtype: int64"
      ]
     },
     "execution_count": 17,
     "metadata": {},
     "output_type": "execute_result"
    }
   ],
   "source": [
    "df2.insurance.value_counts()"
   ]
  },
  {
   "cell_type": "code",
   "execution_count": 18,
   "metadata": {},
   "outputs": [],
   "source": [
    "df2[\"insurance\"] = df2[\"insurance\"].astype(\"object\")"
   ]
  },
  {
   "cell_type": "code",
   "execution_count": 19,
   "metadata": {},
   "outputs": [
    {
     "name": "stdout",
     "output_type": "stream",
     "text": [
      "<class 'pandas.core.frame.DataFrame'>\n",
      "Int64Index: 389 entries, 0 to 401\n",
      "Data columns (total 4 columns):\n",
      " #   Column     Non-Null Count  Dtype  \n",
      "---  ------     --------------  -----  \n",
      " 0   age        389 non-null    int64  \n",
      " 1   chol       389 non-null    float64\n",
      " 2   insurance  389 non-null    object \n",
      " 3   dm         389 non-null    int32  \n",
      "dtypes: float64(1), int32(1), int64(1), object(1)\n",
      "memory usage: 13.7+ KB\n"
     ]
    }
   ],
   "source": [
    "df2.info()"
   ]
  },
  {
   "cell_type": "markdown",
   "metadata": {},
   "source": [
    "### Age Predictor"
   ]
  },
  {
   "cell_type": "code",
   "execution_count": 20,
   "metadata": {},
   "outputs": [
    {
     "name": "stdout",
     "output_type": "stream",
     "text": [
      "Optimization terminated successfully.\n",
      "         Current function value: 0.384479\n",
      "         Iterations 7\n"
     ]
    }
   ],
   "source": [
    "model_age = smf.logit(formula=\"dm ~ + age\", data=df2).fit()"
   ]
  },
  {
   "cell_type": "code",
   "execution_count": 21,
   "metadata": {},
   "outputs": [
    {
     "data": {
      "text/html": [
       "<table class=\"simpletable\">\n",
       "<caption>Logit Regression Results</caption>\n",
       "<tr>\n",
       "  <th>Dep. Variable:</th>          <td>dm</td>        <th>  No. Observations:  </th>  <td>   389</td>  \n",
       "</tr>\n",
       "<tr>\n",
       "  <th>Model:</th>                 <td>Logit</td>      <th>  Df Residuals:      </th>  <td>   387</td>  \n",
       "</tr>\n",
       "<tr>\n",
       "  <th>Method:</th>                 <td>MLE</td>       <th>  Df Model:          </th>  <td>     1</td>  \n",
       "</tr>\n",
       "<tr>\n",
       "  <th>Date:</th>            <td>Fri, 07 May 2021</td> <th>  Pseudo R-squ.:     </th>  <td>0.1059</td>  \n",
       "</tr>\n",
       "<tr>\n",
       "  <th>Time:</th>                <td>15:37:56</td>     <th>  Log-Likelihood:    </th> <td> -149.56</td> \n",
       "</tr>\n",
       "<tr>\n",
       "  <th>converged:</th>             <td>True</td>       <th>  LL-Null:           </th> <td> -167.27</td> \n",
       "</tr>\n",
       "<tr>\n",
       "  <th>Covariance Type:</th>     <td>nonrobust</td>    <th>  LLR p-value:       </th> <td>2.667e-09</td>\n",
       "</tr>\n",
       "</table>\n",
       "<table class=\"simpletable\">\n",
       "<tr>\n",
       "      <td></td>         <th>coef</th>     <th>std err</th>      <th>z</th>      <th>P>|z|</th>  <th>[0.025</th>    <th>0.975]</th>  \n",
       "</tr>\n",
       "<tr>\n",
       "  <th>Intercept</th> <td>   -4.3967</td> <td>    0.542</td> <td>   -8.107</td> <td> 0.000</td> <td>   -5.460</td> <td>   -3.334</td>\n",
       "</tr>\n",
       "<tr>\n",
       "  <th>age</th>       <td>    0.0524</td> <td>    0.009</td> <td>    5.584</td> <td> 0.000</td> <td>    0.034</td> <td>    0.071</td>\n",
       "</tr>\n",
       "</table>"
      ],
      "text/plain": [
       "<class 'statsmodels.iolib.summary.Summary'>\n",
       "\"\"\"\n",
       "                           Logit Regression Results                           \n",
       "==============================================================================\n",
       "Dep. Variable:                     dm   No. Observations:                  389\n",
       "Model:                          Logit   Df Residuals:                      387\n",
       "Method:                           MLE   Df Model:                            1\n",
       "Date:                Fri, 07 May 2021   Pseudo R-squ.:                  0.1059\n",
       "Time:                        15:37:56   Log-Likelihood:                -149.56\n",
       "converged:                       True   LL-Null:                       -167.27\n",
       "Covariance Type:            nonrobust   LLR p-value:                 2.667e-09\n",
       "==============================================================================\n",
       "                 coef    std err          z      P>|z|      [0.025      0.975]\n",
       "------------------------------------------------------------------------------\n",
       "Intercept     -4.3967      0.542     -8.107      0.000      -5.460      -3.334\n",
       "age            0.0524      0.009      5.584      0.000       0.034       0.071\n",
       "==============================================================================\n",
       "\"\"\""
      ]
     },
     "execution_count": 21,
     "metadata": {},
     "output_type": "execute_result"
    }
   ],
   "source": [
    "model_age.summary()"
   ]
  },
  {
   "cell_type": "code",
   "execution_count": 22,
   "metadata": {},
   "outputs": [
    {
     "data": {
      "text/plain": [
       "Intercept   -4.3967\n",
       "age          0.0524\n",
       "dtype: float64"
      ]
     },
     "execution_count": 22,
     "metadata": {},
     "output_type": "execute_result"
    }
   ],
   "source": [
    "model_age.params"
   ]
  },
  {
   "cell_type": "code",
   "execution_count": 23,
   "metadata": {},
   "outputs": [
    {
     "data": {
      "text/plain": [
       "Intercept   0.0123\n",
       "age         1.0538\n",
       "dtype: float64"
      ]
     },
     "execution_count": 23,
     "metadata": {},
     "output_type": "execute_result"
    }
   ],
   "source": [
    "np.exp(model_age.params)"
   ]
  },
  {
   "cell_type": "markdown",
   "metadata": {},
   "source": [
    "Enter the odds ratio for age to two decimal places:"
   ]
  },
  {
   "cell_type": "code",
   "execution_count": 24,
   "metadata": {},
   "outputs": [],
   "source": [
    "model_odds = pd.DataFrame(np.exp(model_age.params), columns=[\"ODDS RATIO\"])"
   ]
  },
  {
   "cell_type": "code",
   "execution_count": 25,
   "metadata": {},
   "outputs": [],
   "source": [
    "model_odds[\"Z-Value\"] = model_age.pvalues"
   ]
  },
  {
   "cell_type": "code",
   "execution_count": 26,
   "metadata": {},
   "outputs": [],
   "source": [
    "model_odds[[\"2.5%\",\"97.5%\"]] = np.exp(model_age.conf_int())"
   ]
  },
  {
   "cell_type": "code",
   "execution_count": 27,
   "metadata": {},
   "outputs": [
    {
     "data": {
      "text/html": [
       "<div>\n",
       "<style scoped>\n",
       "    .dataframe tbody tr th:only-of-type {\n",
       "        vertical-align: middle;\n",
       "    }\n",
       "\n",
       "    .dataframe tbody tr th {\n",
       "        vertical-align: top;\n",
       "    }\n",
       "\n",
       "    .dataframe thead th {\n",
       "        text-align: right;\n",
       "    }\n",
       "</style>\n",
       "<table border=\"1\" class=\"dataframe\">\n",
       "  <thead>\n",
       "    <tr style=\"text-align: right;\">\n",
       "      <th></th>\n",
       "      <th>ODDS RATIO</th>\n",
       "      <th>Z-Value</th>\n",
       "      <th>2.5%</th>\n",
       "      <th>97.5%</th>\n",
       "    </tr>\n",
       "  </thead>\n",
       "  <tbody>\n",
       "    <tr>\n",
       "      <th>Intercept</th>\n",
       "      <td>0.0123</td>\n",
       "      <td>0.0000</td>\n",
       "      <td>0.0043</td>\n",
       "      <td>0.0357</td>\n",
       "    </tr>\n",
       "    <tr>\n",
       "      <th>age</th>\n",
       "      <td>1.0538</td>\n",
       "      <td>0.0000</td>\n",
       "      <td>1.0346</td>\n",
       "      <td>1.0733</td>\n",
       "    </tr>\n",
       "  </tbody>\n",
       "</table>\n",
       "</div>"
      ],
      "text/plain": [
       "           ODDS RATIO  Z-Value   2.5%  97.5%\n",
       "Intercept      0.0123   0.0000 0.0043 0.0357\n",
       "age            1.0538   0.0000 1.0346 1.0733"
      ]
     },
     "execution_count": 27,
     "metadata": {},
     "output_type": "execute_result"
    }
   ],
   "source": [
    "model_odds"
   ]
  },
  {
   "cell_type": "markdown",
   "metadata": {},
   "source": [
    "### Cholesterol Predictor"
   ]
  },
  {
   "cell_type": "code",
   "execution_count": 28,
   "metadata": {},
   "outputs": [
    {
     "name": "stdout",
     "output_type": "stream",
     "text": [
      "Optimization terminated successfully.\n",
      "         Current function value: 0.410820\n",
      "         Iterations 6\n"
     ]
    }
   ],
   "source": [
    "model_chol = smf.logit(formula=\"dm ~ + chol\", data=df2).fit()"
   ]
  },
  {
   "cell_type": "code",
   "execution_count": 29,
   "metadata": {},
   "outputs": [
    {
     "data": {
      "text/html": [
       "<table class=\"simpletable\">\n",
       "<caption>Logit Regression Results</caption>\n",
       "<tr>\n",
       "  <th>Dep. Variable:</th>          <td>dm</td>        <th>  No. Observations:  </th>  <td>   389</td>  \n",
       "</tr>\n",
       "<tr>\n",
       "  <th>Model:</th>                 <td>Logit</td>      <th>  Df Residuals:      </th>  <td>   387</td>  \n",
       "</tr>\n",
       "<tr>\n",
       "  <th>Method:</th>                 <td>MLE</td>       <th>  Df Model:          </th>  <td>     1</td>  \n",
       "</tr>\n",
       "<tr>\n",
       "  <th>Date:</th>            <td>Fri, 07 May 2021</td> <th>  Pseudo R-squ.:     </th>  <td>0.04460</td> \n",
       "</tr>\n",
       "<tr>\n",
       "  <th>Time:</th>                <td>15:37:56</td>     <th>  Log-Likelihood:    </th> <td> -159.81</td> \n",
       "</tr>\n",
       "<tr>\n",
       "  <th>converged:</th>             <td>True</td>       <th>  LL-Null:           </th> <td> -167.27</td> \n",
       "</tr>\n",
       "<tr>\n",
       "  <th>Covariance Type:</th>     <td>nonrobust</td>    <th>  LLR p-value:       </th> <td>0.0001122</td>\n",
       "</tr>\n",
       "</table>\n",
       "<table class=\"simpletable\">\n",
       "<tr>\n",
       "      <td></td>         <th>coef</th>     <th>std err</th>      <th>z</th>      <th>P>|z|</th>  <th>[0.025</th>    <th>0.975]</th>  \n",
       "</tr>\n",
       "<tr>\n",
       "  <th>Intercept</th> <td>   -4.1700</td> <td>    0.683</td> <td>   -6.108</td> <td> 0.000</td> <td>   -5.508</td> <td>   -2.832</td>\n",
       "</tr>\n",
       "<tr>\n",
       "  <th>chol</th>      <td>    0.0115</td> <td>    0.003</td> <td>    3.813</td> <td> 0.000</td> <td>    0.006</td> <td>    0.017</td>\n",
       "</tr>\n",
       "</table>"
      ],
      "text/plain": [
       "<class 'statsmodels.iolib.summary.Summary'>\n",
       "\"\"\"\n",
       "                           Logit Regression Results                           \n",
       "==============================================================================\n",
       "Dep. Variable:                     dm   No. Observations:                  389\n",
       "Model:                          Logit   Df Residuals:                      387\n",
       "Method:                           MLE   Df Model:                            1\n",
       "Date:                Fri, 07 May 2021   Pseudo R-squ.:                 0.04460\n",
       "Time:                        15:37:56   Log-Likelihood:                -159.81\n",
       "converged:                       True   LL-Null:                       -167.27\n",
       "Covariance Type:            nonrobust   LLR p-value:                 0.0001122\n",
       "==============================================================================\n",
       "                 coef    std err          z      P>|z|      [0.025      0.975]\n",
       "------------------------------------------------------------------------------\n",
       "Intercept     -4.1700      0.683     -6.108      0.000      -5.508      -2.832\n",
       "chol           0.0115      0.003      3.813      0.000       0.006       0.017\n",
       "==============================================================================\n",
       "\"\"\""
      ]
     },
     "execution_count": 29,
     "metadata": {},
     "output_type": "execute_result"
    }
   ],
   "source": [
    "model_chol.summary()"
   ]
  },
  {
   "cell_type": "code",
   "execution_count": 30,
   "metadata": {},
   "outputs": [
    {
     "data": {
      "text/plain": [
       "Intercept   -4.1700\n",
       "chol         0.0115\n",
       "dtype: float64"
      ]
     },
     "execution_count": 30,
     "metadata": {},
     "output_type": "execute_result"
    }
   ],
   "source": [
    "model_chol.params"
   ]
  },
  {
   "cell_type": "code",
   "execution_count": 31,
   "metadata": {},
   "outputs": [
    {
     "data": {
      "text/plain": [
       "Intercept   0.0155\n",
       "chol        1.0116\n",
       "dtype: float64"
      ]
     },
     "execution_count": 31,
     "metadata": {},
     "output_type": "execute_result"
    }
   ],
   "source": [
    "np.exp(model_chol.params)"
   ]
  },
  {
   "cell_type": "markdown",
   "metadata": {},
   "source": [
    "Enter the odds ratio for cholesterol to two decimal places:"
   ]
  },
  {
   "cell_type": "code",
   "execution_count": 32,
   "metadata": {},
   "outputs": [],
   "source": [
    "model_odds = pd.DataFrame(np.exp(model_chol.params), columns=[\"ODDS RATIO\"])"
   ]
  },
  {
   "cell_type": "code",
   "execution_count": 33,
   "metadata": {},
   "outputs": [],
   "source": [
    "model_odds[\"Z-Value\"] = model_chol.pvalues"
   ]
  },
  {
   "cell_type": "code",
   "execution_count": 34,
   "metadata": {},
   "outputs": [],
   "source": [
    "model_odds[[\"2.5%\",\"97.5%\"]] = np.exp(model_chol.conf_int())"
   ]
  },
  {
   "cell_type": "code",
   "execution_count": 35,
   "metadata": {},
   "outputs": [
    {
     "data": {
      "text/html": [
       "<div>\n",
       "<style scoped>\n",
       "    .dataframe tbody tr th:only-of-type {\n",
       "        vertical-align: middle;\n",
       "    }\n",
       "\n",
       "    .dataframe tbody tr th {\n",
       "        vertical-align: top;\n",
       "    }\n",
       "\n",
       "    .dataframe thead th {\n",
       "        text-align: right;\n",
       "    }\n",
       "</style>\n",
       "<table border=\"1\" class=\"dataframe\">\n",
       "  <thead>\n",
       "    <tr style=\"text-align: right;\">\n",
       "      <th></th>\n",
       "      <th>ODDS RATIO</th>\n",
       "      <th>Z-Value</th>\n",
       "      <th>2.5%</th>\n",
       "      <th>97.5%</th>\n",
       "    </tr>\n",
       "  </thead>\n",
       "  <tbody>\n",
       "    <tr>\n",
       "      <th>Intercept</th>\n",
       "      <td>0.0155</td>\n",
       "      <td>0.0000</td>\n",
       "      <td>0.0041</td>\n",
       "      <td>0.0589</td>\n",
       "    </tr>\n",
       "    <tr>\n",
       "      <th>chol</th>\n",
       "      <td>1.0116</td>\n",
       "      <td>0.0001</td>\n",
       "      <td>1.0056</td>\n",
       "      <td>1.0175</td>\n",
       "    </tr>\n",
       "  </tbody>\n",
       "</table>\n",
       "</div>"
      ],
      "text/plain": [
       "           ODDS RATIO  Z-Value   2.5%  97.5%\n",
       "Intercept      0.0155   0.0000 0.0041 0.0589\n",
       "chol           1.0116   0.0001 1.0056 1.0175"
      ]
     },
     "execution_count": 35,
     "metadata": {},
     "output_type": "execute_result"
    }
   ],
   "source": [
    "model_odds"
   ]
  },
  {
   "cell_type": "markdown",
   "metadata": {},
   "source": [
    "### Insurance Predictor"
   ]
  },
  {
   "cell_type": "code",
   "execution_count": 36,
   "metadata": {},
   "outputs": [
    {
     "data": {
      "text/html": [
       "<div>\n",
       "<style scoped>\n",
       "    .dataframe tbody tr th:only-of-type {\n",
       "        vertical-align: middle;\n",
       "    }\n",
       "\n",
       "    .dataframe tbody tr th {\n",
       "        vertical-align: top;\n",
       "    }\n",
       "\n",
       "    .dataframe thead th {\n",
       "        text-align: right;\n",
       "    }\n",
       "</style>\n",
       "<table border=\"1\" class=\"dataframe\">\n",
       "  <thead>\n",
       "    <tr style=\"text-align: right;\">\n",
       "      <th></th>\n",
       "      <th>age</th>\n",
       "      <th>chol</th>\n",
       "      <th>insurance</th>\n",
       "      <th>dm</th>\n",
       "    </tr>\n",
       "  </thead>\n",
       "  <tbody>\n",
       "    <tr>\n",
       "      <th>0</th>\n",
       "      <td>46</td>\n",
       "      <td>203.0000</td>\n",
       "      <td>1</td>\n",
       "      <td>0</td>\n",
       "    </tr>\n",
       "    <tr>\n",
       "      <th>1</th>\n",
       "      <td>29</td>\n",
       "      <td>165.0000</td>\n",
       "      <td>0</td>\n",
       "      <td>0</td>\n",
       "    </tr>\n",
       "    <tr>\n",
       "      <th>2</th>\n",
       "      <td>58</td>\n",
       "      <td>228.0000</td>\n",
       "      <td>2</td>\n",
       "      <td>0</td>\n",
       "    </tr>\n",
       "    <tr>\n",
       "      <th>3</th>\n",
       "      <td>67</td>\n",
       "      <td>78.0000</td>\n",
       "      <td>1</td>\n",
       "      <td>0</td>\n",
       "    </tr>\n",
       "    <tr>\n",
       "      <th>4</th>\n",
       "      <td>64</td>\n",
       "      <td>249.0000</td>\n",
       "      <td>0</td>\n",
       "      <td>1</td>\n",
       "    </tr>\n",
       "  </tbody>\n",
       "</table>\n",
       "</div>"
      ],
      "text/plain": [
       "   age     chol insurance  dm\n",
       "0   46 203.0000         1   0\n",
       "1   29 165.0000         0   0\n",
       "2   58 228.0000         2   0\n",
       "3   67  78.0000         1   0\n",
       "4   64 249.0000         0   1"
      ]
     },
     "execution_count": 36,
     "metadata": {},
     "output_type": "execute_result"
    }
   ],
   "source": [
    "df2.head()"
   ]
  },
  {
   "cell_type": "code",
   "execution_count": 37,
   "metadata": {},
   "outputs": [
    {
     "name": "stdout",
     "output_type": "stream",
     "text": [
      "Optimization terminated successfully.\n",
      "         Current function value: 0.427304\n",
      "         Iterations 6\n"
     ]
    }
   ],
   "source": [
    "model_insurance = logit(formula=\"dm ~ C(insurance)\", data=df2).fit()"
   ]
  },
  {
   "cell_type": "code",
   "execution_count": 38,
   "metadata": {},
   "outputs": [
    {
     "data": {
      "text/html": [
       "<table class=\"simpletable\">\n",
       "<caption>Logit Regression Results</caption>\n",
       "<tr>\n",
       "  <th>Dep. Variable:</th>          <td>dm</td>        <th>  No. Observations:  </th>  <td>   389</td> \n",
       "</tr>\n",
       "<tr>\n",
       "  <th>Model:</th>                 <td>Logit</td>      <th>  Df Residuals:      </th>  <td>   386</td> \n",
       "</tr>\n",
       "<tr>\n",
       "  <th>Method:</th>                 <td>MLE</td>       <th>  Df Model:          </th>  <td>     2</td> \n",
       "</tr>\n",
       "<tr>\n",
       "  <th>Date:</th>            <td>Fri, 07 May 2021</td> <th>  Pseudo R-squ.:     </th> <td>0.006262</td>\n",
       "</tr>\n",
       "<tr>\n",
       "  <th>Time:</th>                <td>15:37:56</td>     <th>  Log-Likelihood:    </th> <td> -166.22</td>\n",
       "</tr>\n",
       "<tr>\n",
       "  <th>converged:</th>             <td>True</td>       <th>  LL-Null:           </th> <td> -167.27</td>\n",
       "</tr>\n",
       "<tr>\n",
       "  <th>Covariance Type:</th>     <td>nonrobust</td>    <th>  LLR p-value:       </th>  <td>0.3508</td> \n",
       "</tr>\n",
       "</table>\n",
       "<table class=\"simpletable\">\n",
       "<tr>\n",
       "          <td></td>             <th>coef</th>     <th>std err</th>      <th>z</th>      <th>P>|z|</th>  <th>[0.025</th>    <th>0.975]</th>  \n",
       "</tr>\n",
       "<tr>\n",
       "  <th>Intercept</th>         <td>   -1.4198</td> <td>    0.238</td> <td>   -5.976</td> <td> 0.000</td> <td>   -1.885</td> <td>   -0.954</td>\n",
       "</tr>\n",
       "<tr>\n",
       "  <th>C(insurance)[T.1]</th> <td>   -0.3478</td> <td>    0.335</td> <td>   -1.038</td> <td> 0.299</td> <td>   -1.004</td> <td>    0.309</td>\n",
       "</tr>\n",
       "<tr>\n",
       "  <th>C(insurance)[T.2]</th> <td>   -0.4919</td> <td>    0.352</td> <td>   -1.397</td> <td> 0.162</td> <td>   -1.182</td> <td>    0.198</td>\n",
       "</tr>\n",
       "</table>"
      ],
      "text/plain": [
       "<class 'statsmodels.iolib.summary.Summary'>\n",
       "\"\"\"\n",
       "                           Logit Regression Results                           \n",
       "==============================================================================\n",
       "Dep. Variable:                     dm   No. Observations:                  389\n",
       "Model:                          Logit   Df Residuals:                      386\n",
       "Method:                           MLE   Df Model:                            2\n",
       "Date:                Fri, 07 May 2021   Pseudo R-squ.:                0.006262\n",
       "Time:                        15:37:56   Log-Likelihood:                -166.22\n",
       "converged:                       True   LL-Null:                       -167.27\n",
       "Covariance Type:            nonrobust   LLR p-value:                    0.3508\n",
       "=====================================================================================\n",
       "                        coef    std err          z      P>|z|      [0.025      0.975]\n",
       "-------------------------------------------------------------------------------------\n",
       "Intercept            -1.4198      0.238     -5.976      0.000      -1.885      -0.954\n",
       "C(insurance)[T.1]    -0.3478      0.335     -1.038      0.299      -1.004       0.309\n",
       "C(insurance)[T.2]    -0.4919      0.352     -1.397      0.162      -1.182       0.198\n",
       "=====================================================================================\n",
       "\"\"\""
      ]
     },
     "execution_count": 38,
     "metadata": {},
     "output_type": "execute_result"
    }
   ],
   "source": [
    "model_insurance.summary()"
   ]
  },
  {
   "cell_type": "code",
   "execution_count": 39,
   "metadata": {},
   "outputs": [],
   "source": [
    "model_odds = pd.DataFrame(np.exp(model_insurance.params), columns=[\"ODDS RATIO\"])"
   ]
  },
  {
   "cell_type": "code",
   "execution_count": 40,
   "metadata": {},
   "outputs": [
    {
     "data": {
      "text/html": [
       "<div>\n",
       "<style scoped>\n",
       "    .dataframe tbody tr th:only-of-type {\n",
       "        vertical-align: middle;\n",
       "    }\n",
       "\n",
       "    .dataframe tbody tr th {\n",
       "        vertical-align: top;\n",
       "    }\n",
       "\n",
       "    .dataframe thead th {\n",
       "        text-align: right;\n",
       "    }\n",
       "</style>\n",
       "<table border=\"1\" class=\"dataframe\">\n",
       "  <thead>\n",
       "    <tr style=\"text-align: right;\">\n",
       "      <th></th>\n",
       "      <th>ODDS RATIO</th>\n",
       "    </tr>\n",
       "  </thead>\n",
       "  <tbody>\n",
       "    <tr>\n",
       "      <th>Intercept</th>\n",
       "      <td>0.2418</td>\n",
       "    </tr>\n",
       "    <tr>\n",
       "      <th>C(insurance)[T.1]</th>\n",
       "      <td>0.7062</td>\n",
       "    </tr>\n",
       "    <tr>\n",
       "      <th>C(insurance)[T.2]</th>\n",
       "      <td>0.6115</td>\n",
       "    </tr>\n",
       "  </tbody>\n",
       "</table>\n",
       "</div>"
      ],
      "text/plain": [
       "                   ODDS RATIO\n",
       "Intercept              0.2418\n",
       "C(insurance)[T.1]      0.7062\n",
       "C(insurance)[T.2]      0.6115"
      ]
     },
     "execution_count": 40,
     "metadata": {},
     "output_type": "execute_result"
    }
   ],
   "source": [
    "model_odds"
   ]
  },
  {
   "cell_type": "code",
   "execution_count": null,
   "metadata": {},
   "outputs": [],
   "source": []
  },
  {
   "cell_type": "code",
   "execution_count": 41,
   "metadata": {},
   "outputs": [
    {
     "ename": "SyntaxError",
     "evalue": "invalid syntax (<ipython-input-41-c3524f4dc0d6>, line 1)",
     "output_type": "error",
     "traceback": [
      "\u001b[1;36m  File \u001b[1;32m\"<ipython-input-41-c3524f4dc0d6>\"\u001b[1;36m, line \u001b[1;32m1\u001b[0m\n\u001b[1;33m    -----------------------\u001b[0m\n\u001b[1;37m                           ^\u001b[0m\n\u001b[1;31mSyntaxError\u001b[0m\u001b[1;31m:\u001b[0m invalid syntax\n"
     ]
    }
   ],
   "source": [
    "-----------------------"
   ]
  },
  {
   "cell_type": "code",
   "execution_count": null,
   "metadata": {},
   "outputs": [],
   "source": [
    "govtinsurance = df2[df2[\"insurance\"] == 1]"
   ]
  },
  {
   "cell_type": "code",
   "execution_count": null,
   "metadata": {},
   "outputs": [],
   "source": [
    "govtinsurance"
   ]
  },
  {
   "cell_type": "code",
   "execution_count": null,
   "metadata": {},
   "outputs": [],
   "source": [
    "----------------"
   ]
  },
  {
   "cell_type": "code",
   "execution_count": null,
   "metadata": {},
   "outputs": [],
   "source": [
    "model_ins1 = smf.logit(formula=\"dm ~ + C(insurance)\", data=govtinsurance).fit()"
   ]
  },
  {
   "cell_type": "code",
   "execution_count": null,
   "metadata": {},
   "outputs": [],
   "source": [
    "model_ins1.summary()"
   ]
  },
  {
   "cell_type": "code",
   "execution_count": null,
   "metadata": {},
   "outputs": [],
   "source": [
    "model_ins1.params"
   ]
  },
  {
   "cell_type": "code",
   "execution_count": null,
   "metadata": {},
   "outputs": [],
   "source": [
    "np.exp(model_ins1.params)"
   ]
  },
  {
   "cell_type": "markdown",
   "metadata": {},
   "source": [
    "Enter the odds ratio for insurance to two decimal places:"
   ]
  },
  {
   "cell_type": "code",
   "execution_count": null,
   "metadata": {},
   "outputs": [],
   "source": [
    "model_odds = pd.DataFrame(np.exp(model_ins1.params), columns=[\"ODDS RATIO\"])"
   ]
  },
  {
   "cell_type": "code",
   "execution_count": null,
   "metadata": {},
   "outputs": [],
   "source": [
    "model_odds[\"Z-Value\"] = model_ins1.pvalues"
   ]
  },
  {
   "cell_type": "code",
   "execution_count": null,
   "metadata": {},
   "outputs": [],
   "source": [
    "model_odds[[\"2.5%\",\"97.5%\"]] = np.exp(model_ins1.conf_int())"
   ]
  },
  {
   "cell_type": "code",
   "execution_count": null,
   "metadata": {},
   "outputs": [],
   "source": [
    "model_odds"
   ]
  },
  {
   "cell_type": "code",
   "execution_count": null,
   "metadata": {},
   "outputs": [],
   "source": [
    "#dir(model_ins1)"
   ]
  },
  {
   "cell_type": "code",
   "execution_count": null,
   "metadata": {},
   "outputs": [],
   "source": [
    "#model_ins.fittedvalues"
   ]
  },
  {
   "cell_type": "code",
   "execution_count": null,
   "metadata": {},
   "outputs": [],
   "source": [
    "privinsurance = df2[df2[\"insurance\"] == 2]"
   ]
  },
  {
   "cell_type": "code",
   "execution_count": null,
   "metadata": {},
   "outputs": [],
   "source": [
    "privinsurance"
   ]
  },
  {
   "cell_type": "code",
   "execution_count": null,
   "metadata": {},
   "outputs": [],
   "source": [
    "model_ins2 = smf.logit(formula=\"dm ~ + C(insurance)\", data=privinsurance).fit()"
   ]
  },
  {
   "cell_type": "code",
   "execution_count": null,
   "metadata": {},
   "outputs": [],
   "source": [
    "model_ins2.summary()"
   ]
  },
  {
   "cell_type": "code",
   "execution_count": null,
   "metadata": {},
   "outputs": [],
   "source": [
    "model_ins2.params"
   ]
  },
  {
   "cell_type": "code",
   "execution_count": null,
   "metadata": {},
   "outputs": [],
   "source": [
    "np.exp(model_ins2.params)"
   ]
  },
  {
   "cell_type": "markdown",
   "metadata": {},
   "source": [
    "Enter the odds ratio for insurance to two decimal places:"
   ]
  },
  {
   "cell_type": "code",
   "execution_count": null,
   "metadata": {},
   "outputs": [],
   "source": [
    "model_odds = pd.DataFrame(np.exp(model_ins2.params), columns=[\"ODDS RATIO\"])"
   ]
  },
  {
   "cell_type": "code",
   "execution_count": null,
   "metadata": {},
   "outputs": [],
   "source": [
    "model_odds[\"Z-Value\"] = model_ins2.pvalues"
   ]
  },
  {
   "cell_type": "code",
   "execution_count": null,
   "metadata": {},
   "outputs": [],
   "source": [
    "model_odds[[\"2.5%\",\"97.5%\"]] = np.exp(model_ins2.conf_int())"
   ]
  },
  {
   "cell_type": "code",
   "execution_count": null,
   "metadata": {},
   "outputs": [],
   "source": [
    "model_odds"
   ]
  },
  {
   "cell_type": "code",
   "execution_count": null,
   "metadata": {},
   "outputs": [],
   "source": [
    "df2"
   ]
  },
  {
   "cell_type": "code",
   "execution_count": null,
   "metadata": {},
   "outputs": [],
   "source": [
    "df2.groupby('insurance')['dm'].count()"
   ]
  },
  {
   "cell_type": "code",
   "execution_count": null,
   "metadata": {},
   "outputs": [],
   "source": [
    "govtinsurance.reset_index(inplace=True, drop=True)"
   ]
  },
  {
   "cell_type": "code",
   "execution_count": null,
   "metadata": {},
   "outputs": [],
   "source": [
    "govtinsurance"
   ]
  },
  {
   "cell_type": "code",
   "execution_count": null,
   "metadata": {},
   "outputs": [],
   "source": [
    "govtinsurance.groupby(\"dm\").count()"
   ]
  },
  {
   "cell_type": "code",
   "execution_count": null,
   "metadata": {},
   "outputs": [],
   "source": [
    "privinsurance.reset_index(inplace=True, drop=True)"
   ]
  },
  {
   "cell_type": "code",
   "execution_count": null,
   "metadata": {},
   "outputs": [],
   "source": [
    "privinsurance"
   ]
  },
  {
   "cell_type": "code",
   "execution_count": null,
   "metadata": {},
   "outputs": [],
   "source": [
    "privinsurance.groupby(\"dm\").count()"
   ]
  },
  {
   "cell_type": "code",
   "execution_count": null,
   "metadata": {},
   "outputs": [],
   "source": []
  },
  {
   "cell_type": "markdown",
   "metadata": {},
   "source": [
    "#### Python code done by Dennis Lam"
   ]
  },
  {
   "cell_type": "code",
   "execution_count": null,
   "metadata": {},
   "outputs": [],
   "source": []
  }
 ],
 "metadata": {
  "kernelspec": {
   "display_name": "Python 3",
   "language": "python",
   "name": "python3"
  },
  "language_info": {
   "codemirror_mode": {
    "name": "ipython",
    "version": 3
   },
   "file_extension": ".py",
   "mimetype": "text/x-python",
   "name": "python",
   "nbconvert_exporter": "python",
   "pygments_lexer": "ipython3",
   "version": "3.8.5"
  }
 },
 "nbformat": 4,
 "nbformat_minor": 4
}
